{
 "cells": [
  {
   "cell_type": "code",
   "execution_count": 1,
   "id": "aa973c87",
   "metadata": {},
   "outputs": [
    {
     "data": {
      "text/html": [
       "<div>\n",
       "<style scoped>\n",
       "    .dataframe tbody tr th:only-of-type {\n",
       "        vertical-align: middle;\n",
       "    }\n",
       "\n",
       "    .dataframe tbody tr th {\n",
       "        vertical-align: top;\n",
       "    }\n",
       "\n",
       "    .dataframe thead th {\n",
       "        text-align: right;\n",
       "    }\n",
       "</style>\n",
       "<table border=\"1\" class=\"dataframe\">\n",
       "  <thead>\n",
       "    <tr style=\"text-align: right;\">\n",
       "      <th></th>\n",
       "      <th>id</th>\n",
       "      <th>title</th>\n",
       "      <th>tagline</th>\n",
       "      <th>release_date</th>\n",
       "      <th>genres</th>\n",
       "      <th>belongs_to_collection</th>\n",
       "      <th>original_language</th>\n",
       "      <th>budget_musd</th>\n",
       "      <th>revenue_musd</th>\n",
       "      <th>production_companies</th>\n",
       "      <th>production_countries</th>\n",
       "      <th>vote_count</th>\n",
       "      <th>vote_average</th>\n",
       "      <th>popularity</th>\n",
       "      <th>runtime</th>\n",
       "      <th>overview</th>\n",
       "      <th>spoken_languages</th>\n",
       "      <th>poster_path</th>\n",
       "      <th>cast</th>\n",
       "      <th>cast_size</th>\n",
       "      <th>crew_size</th>\n",
       "      <th>director</th>\n",
       "    </tr>\n",
       "  </thead>\n",
       "  <tbody>\n",
       "    <tr>\n",
       "      <th>0</th>\n",
       "      <td>862</td>\n",
       "      <td>Toy Story</td>\n",
       "      <td>NaN</td>\n",
       "      <td>1995-10-30</td>\n",
       "      <td>Animation|Comedy|Family</td>\n",
       "      <td>Toy Story Collection</td>\n",
       "      <td>en</td>\n",
       "      <td>30.000000</td>\n",
       "      <td>373.554033</td>\n",
       "      <td>Pixar Animation Studios</td>\n",
       "      <td>United States of America</td>\n",
       "      <td>5415.000000</td>\n",
       "      <td>7.700000</td>\n",
       "      <td>21.946943</td>\n",
       "      <td>81.000000</td>\n",
       "      <td>Led by Woody, Andy's toys live happily in his ...</td>\n",
       "      <td>English</td>\n",
       "      <td>&lt;img src='http://image.tmdb.org/t/p/w185//uXDf...</td>\n",
       "      <td>Tom Hanks|Tim Allen|Don Rickles|Jim Varney|Wal...</td>\n",
       "      <td>13</td>\n",
       "      <td>106</td>\n",
       "      <td>John Lasseter</td>\n",
       "    </tr>\n",
       "  </tbody>\n",
       "</table>\n",
       "</div>"
      ],
      "text/plain": [
       "    id      title tagline release_date                   genres  \\\n",
       "0  862  Toy Story     NaN   1995-10-30  Animation|Comedy|Family   \n",
       "\n",
       "  belongs_to_collection original_language  budget_musd  revenue_musd  \\\n",
       "0  Toy Story Collection                en    30.000000    373.554033   \n",
       "\n",
       "      production_companies      production_countries  vote_count  \\\n",
       "0  Pixar Animation Studios  United States of America 5415.000000   \n",
       "\n",
       "   vote_average  popularity   runtime  \\\n",
       "0      7.700000   21.946943 81.000000   \n",
       "\n",
       "                                            overview spoken_languages  \\\n",
       "0  Led by Woody, Andy's toys live happily in his ...          English   \n",
       "\n",
       "                                         poster_path  \\\n",
       "0  <img src='http://image.tmdb.org/t/p/w185//uXDf...   \n",
       "\n",
       "                                                cast  cast_size  crew_size  \\\n",
       "0  Tom Hanks|Tim Allen|Don Rickles|Jim Varney|Wal...         13        106   \n",
       "\n",
       "        director  \n",
       "0  John Lasseter  "
      ]
     },
     "execution_count": 1,
     "metadata": {},
     "output_type": "execute_result"
    }
   ],
   "source": [
    "import pandas as pd\n",
    "import numpy as np\n",
    "import matplotlib as plt\n",
    "pd.options.display.max_columns=30\n",
    "pd.options.display.float_format='{:2f}'.format\n",
    "df = pd.read_csv('movies_complete.csv')\n",
    "df.head(1)"
   ]
  },
  {
   "cell_type": "code",
   "execution_count": 2,
   "id": "5e71a1df",
   "metadata": {},
   "outputs": [
    {
     "name": "stdout",
     "output_type": "stream",
     "text": [
      "<class 'pandas.core.frame.DataFrame'>\n",
      "RangeIndex: 44691 entries, 0 to 44690\n",
      "Data columns (total 22 columns):\n",
      " #   Column                 Non-Null Count  Dtype  \n",
      "---  ------                 --------------  -----  \n",
      " 0   id                     44691 non-null  int64  \n",
      " 1   title                  44691 non-null  object \n",
      " 2   tagline                20284 non-null  object \n",
      " 3   release_date           44657 non-null  object \n",
      " 4   genres                 42586 non-null  object \n",
      " 5   belongs_to_collection  4463 non-null   object \n",
      " 6   original_language      44681 non-null  object \n",
      " 7   budget_musd            8854 non-null   float64\n",
      " 8   revenue_musd           7385 non-null   float64\n",
      " 9   production_companies   33356 non-null  object \n",
      " 10  production_countries   38835 non-null  object \n",
      " 11  vote_count             44691 non-null  float64\n",
      " 12  vote_average           42077 non-null  float64\n",
      " 13  popularity             44691 non-null  float64\n",
      " 14  runtime                43179 non-null  float64\n",
      " 15  overview               43740 non-null  object \n",
      " 16  spoken_languages       41094 non-null  object \n",
      " 17  poster_path            44467 non-null  object \n",
      " 18  cast                   42502 non-null  object \n",
      " 19  cast_size              44691 non-null  int64  \n",
      " 20  crew_size              44691 non-null  int64  \n",
      " 21  director               43960 non-null  object \n",
      "dtypes: float64(6), int64(3), object(13)\n",
      "memory usage: 7.5+ MB\n"
     ]
    }
   ],
   "source": [
    "df.info()"
   ]
  },
  {
   "cell_type": "code",
   "execution_count": 3,
   "id": "9a7575e0",
   "metadata": {},
   "outputs": [
    {
     "data": {
      "text/html": [
       "<div>\n",
       "<style scoped>\n",
       "    .dataframe tbody tr th:only-of-type {\n",
       "        vertical-align: middle;\n",
       "    }\n",
       "\n",
       "    .dataframe tbody tr th {\n",
       "        vertical-align: top;\n",
       "    }\n",
       "\n",
       "    .dataframe thead th {\n",
       "        text-align: right;\n",
       "    }\n",
       "</style>\n",
       "<table border=\"1\" class=\"dataframe\">\n",
       "  <thead>\n",
       "    <tr style=\"text-align: right;\">\n",
       "      <th></th>\n",
       "      <th>id</th>\n",
       "      <th>title</th>\n",
       "      <th>tagline</th>\n",
       "      <th>release_date</th>\n",
       "      <th>genres</th>\n",
       "      <th>belongs_to_collection</th>\n",
       "      <th>original_language</th>\n",
       "      <th>budget_musd</th>\n",
       "      <th>revenue_musd</th>\n",
       "      <th>production_companies</th>\n",
       "      <th>production_countries</th>\n",
       "      <th>vote_count</th>\n",
       "      <th>vote_average</th>\n",
       "      <th>popularity</th>\n",
       "      <th>runtime</th>\n",
       "      <th>overview</th>\n",
       "      <th>spoken_languages</th>\n",
       "      <th>poster_path</th>\n",
       "      <th>cast</th>\n",
       "      <th>cast_size</th>\n",
       "      <th>crew_size</th>\n",
       "      <th>director</th>\n",
       "    </tr>\n",
       "  </thead>\n",
       "  <tbody>\n",
       "    <tr>\n",
       "      <th>0</th>\n",
       "      <td>862</td>\n",
       "      <td>Toy Story</td>\n",
       "      <td>NaN</td>\n",
       "      <td>1995-10-30</td>\n",
       "      <td>Animation|Comedy|Family</td>\n",
       "      <td>Toy Story Collection</td>\n",
       "      <td>en</td>\n",
       "      <td>30.000000</td>\n",
       "      <td>373.554033</td>\n",
       "      <td>Pixar Animation Studios</td>\n",
       "      <td>United States of America</td>\n",
       "      <td>5415.000000</td>\n",
       "      <td>7.700000</td>\n",
       "      <td>21.946943</td>\n",
       "      <td>81.000000</td>\n",
       "      <td>Led by Woody, Andy's toys live happily in his ...</td>\n",
       "      <td>English</td>\n",
       "      <td>&lt;img src='http://image.tmdb.org/t/p/w185//uXDf...</td>\n",
       "      <td>Tom Hanks|Tim Allen|Don Rickles|Jim Varney|Wal...</td>\n",
       "      <td>13</td>\n",
       "      <td>106</td>\n",
       "      <td>John Lasseter</td>\n",
       "    </tr>\n",
       "    <tr>\n",
       "      <th>1</th>\n",
       "      <td>8844</td>\n",
       "      <td>Jumanji</td>\n",
       "      <td>Roll the dice and unleash the excitement!</td>\n",
       "      <td>1995-12-15</td>\n",
       "      <td>Adventure|Fantasy|Family</td>\n",
       "      <td>NaN</td>\n",
       "      <td>en</td>\n",
       "      <td>65.000000</td>\n",
       "      <td>262.797249</td>\n",
       "      <td>TriStar Pictures|Teitler Film|Interscope Commu...</td>\n",
       "      <td>United States of America</td>\n",
       "      <td>2413.000000</td>\n",
       "      <td>6.900000</td>\n",
       "      <td>17.015539</td>\n",
       "      <td>104.000000</td>\n",
       "      <td>When siblings Judy and Peter discover an encha...</td>\n",
       "      <td>English|Français</td>\n",
       "      <td>&lt;img src='http://image.tmdb.org/t/p/w185//vgpX...</td>\n",
       "      <td>Robin Williams|Jonathan Hyde|Kirsten Dunst|Bra...</td>\n",
       "      <td>26</td>\n",
       "      <td>16</td>\n",
       "      <td>Joe Johnston</td>\n",
       "    </tr>\n",
       "  </tbody>\n",
       "</table>\n",
       "</div>"
      ],
      "text/plain": [
       "     id      title                                    tagline release_date  \\\n",
       "0   862  Toy Story                                        NaN   1995-10-30   \n",
       "1  8844    Jumanji  Roll the dice and unleash the excitement!   1995-12-15   \n",
       "\n",
       "                     genres belongs_to_collection original_language  \\\n",
       "0   Animation|Comedy|Family  Toy Story Collection                en   \n",
       "1  Adventure|Fantasy|Family                   NaN                en   \n",
       "\n",
       "   budget_musd  revenue_musd  \\\n",
       "0    30.000000    373.554033   \n",
       "1    65.000000    262.797249   \n",
       "\n",
       "                                production_companies  \\\n",
       "0                            Pixar Animation Studios   \n",
       "1  TriStar Pictures|Teitler Film|Interscope Commu...   \n",
       "\n",
       "       production_countries  vote_count  vote_average  popularity    runtime  \\\n",
       "0  United States of America 5415.000000      7.700000   21.946943  81.000000   \n",
       "1  United States of America 2413.000000      6.900000   17.015539 104.000000   \n",
       "\n",
       "                                            overview  spoken_languages  \\\n",
       "0  Led by Woody, Andy's toys live happily in his ...           English   \n",
       "1  When siblings Judy and Peter discover an encha...  English|Français   \n",
       "\n",
       "                                         poster_path  \\\n",
       "0  <img src='http://image.tmdb.org/t/p/w185//uXDf...   \n",
       "1  <img src='http://image.tmdb.org/t/p/w185//vgpX...   \n",
       "\n",
       "                                                cast  cast_size  crew_size  \\\n",
       "0  Tom Hanks|Tim Allen|Don Rickles|Jim Varney|Wal...         13        106   \n",
       "1  Robin Williams|Jonathan Hyde|Kirsten Dunst|Bra...         26         16   \n",
       "\n",
       "        director  \n",
       "0  John Lasseter  \n",
       "1   Joe Johnston  "
      ]
     },
     "execution_count": 3,
     "metadata": {},
     "output_type": "execute_result"
    }
   ],
   "source": [
    "df.head(2)"
   ]
  },
  {
   "cell_type": "code",
   "execution_count": 4,
   "id": "03dd9d7f",
   "metadata": {},
   "outputs": [
    {
     "data": {
      "text/plain": [
       "'Adventure|Fantasy|Family'"
      ]
     },
     "execution_count": 4,
     "metadata": {},
     "output_type": "execute_result"
    }
   ],
   "source": [
    "df.genres[1]"
   ]
  },
  {
   "cell_type": "code",
   "execution_count": 5,
   "id": "1706cc5f",
   "metadata": {},
   "outputs": [
    {
     "data": {
      "text/plain": [
       "'Robin Williams|Jonathan Hyde|Kirsten Dunst|Bradley Pierce|Bonnie Hunt|Bebe Neuwirth|David Alan Grier|Patricia Clarkson|Adam Hann-Byrd|Laura Bell Bundy|James Handy|Gillian Barber|Brandon Obray|Cyrus Thiedeke|Gary Joseph Thorup|Leonard Zola|Lloyd Berry|Malcolm Stewart|Annabel Kershaw|Darryl Henriques|Robyn Driscoll|Peter Bryant|Sarah Gilson|Florica Vlad|June Lion|Brenda Lockmuller'"
      ]
     },
     "execution_count": 5,
     "metadata": {},
     "output_type": "execute_result"
    }
   ],
   "source": [
    "df.cast[1]"
   ]
  },
  {
   "cell_type": "code",
   "execution_count": 6,
   "id": "09be5fb3",
   "metadata": {},
   "outputs": [
    {
     "data": {
      "text/html": [
       "<div>\n",
       "<style scoped>\n",
       "    .dataframe tbody tr th:only-of-type {\n",
       "        vertical-align: middle;\n",
       "    }\n",
       "\n",
       "    .dataframe tbody tr th {\n",
       "        vertical-align: top;\n",
       "    }\n",
       "\n",
       "    .dataframe thead th {\n",
       "        text-align: right;\n",
       "    }\n",
       "</style>\n",
       "<table border=\"1\" class=\"dataframe\">\n",
       "  <thead>\n",
       "    <tr style=\"text-align: right;\">\n",
       "      <th></th>\n",
       "      <th>id</th>\n",
       "      <th>budget_musd</th>\n",
       "      <th>revenue_musd</th>\n",
       "      <th>vote_count</th>\n",
       "      <th>vote_average</th>\n",
       "      <th>popularity</th>\n",
       "      <th>runtime</th>\n",
       "      <th>cast_size</th>\n",
       "      <th>crew_size</th>\n",
       "    </tr>\n",
       "  </thead>\n",
       "  <tbody>\n",
       "    <tr>\n",
       "      <th>count</th>\n",
       "      <td>44691.000000</td>\n",
       "      <td>8854.000000</td>\n",
       "      <td>7385.000000</td>\n",
       "      <td>44691.000000</td>\n",
       "      <td>42077.000000</td>\n",
       "      <td>44691.000000</td>\n",
       "      <td>43179.000000</td>\n",
       "      <td>44691.000000</td>\n",
       "      <td>44691.000000</td>\n",
       "    </tr>\n",
       "    <tr>\n",
       "      <th>mean</th>\n",
       "      <td>107186.242845</td>\n",
       "      <td>21.669886</td>\n",
       "      <td>68.968649</td>\n",
       "      <td>111.653778</td>\n",
       "      <td>6.003341</td>\n",
       "      <td>2.957460</td>\n",
       "      <td>97.566850</td>\n",
       "      <td>12.479090</td>\n",
       "      <td>10.313643</td>\n",
       "    </tr>\n",
       "    <tr>\n",
       "      <th>std</th>\n",
       "      <td>111806.362236</td>\n",
       "      <td>34.359837</td>\n",
       "      <td>146.608966</td>\n",
       "      <td>495.322313</td>\n",
       "      <td>1.281060</td>\n",
       "      <td>6.040008</td>\n",
       "      <td>34.653409</td>\n",
       "      <td>12.124663</td>\n",
       "      <td>15.892154</td>\n",
       "    </tr>\n",
       "    <tr>\n",
       "      <th>min</th>\n",
       "      <td>2.000000</td>\n",
       "      <td>0.000001</td>\n",
       "      <td>0.000001</td>\n",
       "      <td>0.000000</td>\n",
       "      <td>0.000000</td>\n",
       "      <td>0.000000</td>\n",
       "      <td>1.000000</td>\n",
       "      <td>0.000000</td>\n",
       "      <td>0.000000</td>\n",
       "    </tr>\n",
       "    <tr>\n",
       "      <th>25%</th>\n",
       "      <td>26033.500000</td>\n",
       "      <td>2.000000</td>\n",
       "      <td>2.405420</td>\n",
       "      <td>3.000000</td>\n",
       "      <td>5.300000</td>\n",
       "      <td>0.402038</td>\n",
       "      <td>86.000000</td>\n",
       "      <td>6.000000</td>\n",
       "      <td>2.000000</td>\n",
       "    </tr>\n",
       "    <tr>\n",
       "      <th>50%</th>\n",
       "      <td>59110.000000</td>\n",
       "      <td>8.200000</td>\n",
       "      <td>16.872671</td>\n",
       "      <td>10.000000</td>\n",
       "      <td>6.100000</td>\n",
       "      <td>1.150055</td>\n",
       "      <td>95.000000</td>\n",
       "      <td>10.000000</td>\n",
       "      <td>6.000000</td>\n",
       "    </tr>\n",
       "    <tr>\n",
       "      <th>75%</th>\n",
       "      <td>154251.000000</td>\n",
       "      <td>25.000000</td>\n",
       "      <td>67.642693</td>\n",
       "      <td>35.000000</td>\n",
       "      <td>6.800000</td>\n",
       "      <td>3.768882</td>\n",
       "      <td>107.000000</td>\n",
       "      <td>15.000000</td>\n",
       "      <td>12.000000</td>\n",
       "    </tr>\n",
       "    <tr>\n",
       "      <th>max</th>\n",
       "      <td>469172.000000</td>\n",
       "      <td>380.000000</td>\n",
       "      <td>2787.965087</td>\n",
       "      <td>14075.000000</td>\n",
       "      <td>10.000000</td>\n",
       "      <td>547.488298</td>\n",
       "      <td>1256.000000</td>\n",
       "      <td>313.000000</td>\n",
       "      <td>435.000000</td>\n",
       "    </tr>\n",
       "  </tbody>\n",
       "</table>\n",
       "</div>"
      ],
      "text/plain": [
       "                 id  budget_musd  revenue_musd   vote_count  vote_average  \\\n",
       "count  44691.000000  8854.000000   7385.000000 44691.000000  42077.000000   \n",
       "mean  107186.242845    21.669886     68.968649   111.653778      6.003341   \n",
       "std   111806.362236    34.359837    146.608966   495.322313      1.281060   \n",
       "min        2.000000     0.000001      0.000001     0.000000      0.000000   \n",
       "25%    26033.500000     2.000000      2.405420     3.000000      5.300000   \n",
       "50%    59110.000000     8.200000     16.872671    10.000000      6.100000   \n",
       "75%   154251.000000    25.000000     67.642693    35.000000      6.800000   \n",
       "max   469172.000000   380.000000   2787.965087 14075.000000     10.000000   \n",
       "\n",
       "        popularity      runtime    cast_size    crew_size  \n",
       "count 44691.000000 43179.000000 44691.000000 44691.000000  \n",
       "mean      2.957460    97.566850    12.479090    10.313643  \n",
       "std       6.040008    34.653409    12.124663    15.892154  \n",
       "min       0.000000     1.000000     0.000000     0.000000  \n",
       "25%       0.402038    86.000000     6.000000     2.000000  \n",
       "50%       1.150055    95.000000    10.000000     6.000000  \n",
       "75%       3.768882   107.000000    15.000000    12.000000  \n",
       "max     547.488298  1256.000000   313.000000   435.000000  "
      ]
     },
     "execution_count": 6,
     "metadata": {},
     "output_type": "execute_result"
    }
   ],
   "source": [
    "df.describe()"
   ]
  },
  {
   "cell_type": "code",
   "execution_count": 7,
   "id": "87a9f6d8",
   "metadata": {},
   "outputs": [
    {
     "ename": "AttributeError",
     "evalue": "module 'matplotlib' has no attribute 'show'",
     "output_type": "error",
     "traceback": [
      "\u001b[1;31m---------------------------------------------------------------------------\u001b[0m",
      "\u001b[1;31mAttributeError\u001b[0m                            Traceback (most recent call last)",
      "Input \u001b[1;32mIn [7]\u001b[0m, in \u001b[0;36m<cell line: 2>\u001b[1;34m()\u001b[0m\n\u001b[0;32m      1\u001b[0m df\u001b[38;5;241m.\u001b[39mhist(figsize\u001b[38;5;241m=\u001b[39m (\u001b[38;5;241m20\u001b[39m,\u001b[38;5;241m12\u001b[39m),bins\u001b[38;5;241m=\u001b[39m\u001b[38;5;241m100\u001b[39m)\n\u001b[1;32m----> 2\u001b[0m \u001b[43mplt\u001b[49m\u001b[38;5;241;43m.\u001b[39;49m\u001b[43mshow\u001b[49m()\n",
      "File \u001b[1;32m~\\anaconda3\\lib\\site-packages\\matplotlib\\_api\\__init__.py:222\u001b[0m, in \u001b[0;36mcaching_module_getattr.<locals>.__getattr__\u001b[1;34m(name)\u001b[0m\n\u001b[0;32m    220\u001b[0m \u001b[38;5;28;01mif\u001b[39;00m name \u001b[38;5;129;01min\u001b[39;00m props:\n\u001b[0;32m    221\u001b[0m     \u001b[38;5;28;01mreturn\u001b[39;00m props[name]\u001b[38;5;241m.\u001b[39m\u001b[38;5;21m__get__\u001b[39m(instance)\n\u001b[1;32m--> 222\u001b[0m \u001b[38;5;28;01mraise\u001b[39;00m \u001b[38;5;167;01mAttributeError\u001b[39;00m(\n\u001b[0;32m    223\u001b[0m     \u001b[38;5;124mf\u001b[39m\u001b[38;5;124m\"\u001b[39m\u001b[38;5;124mmodule \u001b[39m\u001b[38;5;132;01m{\u001b[39;00m\u001b[38;5;28mcls\u001b[39m\u001b[38;5;241m.\u001b[39m\u001b[38;5;18m__module__\u001b[39m\u001b[38;5;132;01m!r}\u001b[39;00m\u001b[38;5;124m has no attribute \u001b[39m\u001b[38;5;132;01m{\u001b[39;00mname\u001b[38;5;132;01m!r}\u001b[39;00m\u001b[38;5;124m\"\u001b[39m)\n",
      "\u001b[1;31mAttributeError\u001b[0m: module 'matplotlib' has no attribute 'show'"
     ]
    },
    {
     "data": {
      "image/png": "[encoded data removed]",
      "text/plain": [
       "<Figure size 1440x864 with 9 Axes>"
      ]
     },
     "metadata": {
      "needs_background": "light"
     },
     "output_type": "display_data"
    }
   ],
   "source": [
    "df.hist(figsize= (20,12),bins=100)\n",
    "plt.show()"
   ]
  },
  {
   "cell_type": "code",
   "execution_count": null,
   "id": "fa6c2d80",
   "metadata": {},
   "outputs": [],
   "source": [
    "df.revenue_musd.value_counts(dropna=False).head(10)"
   ]
  },
  {
   "cell_type": "code",
   "execution_count": null,
   "id": "35f19645",
   "metadata": {},
   "outputs": [],
   "source": [
    "df.budget_musd.value_counts(dropna=False).head(10)"
   ]
  },
  {
   "cell_type": "code",
   "execution_count": null,
   "id": "3ebaf44c",
   "metadata": {},
   "outputs": [],
   "source": [
    "df.describe(include = 'object')"
   ]
  },
  {
   "cell_type": "code",
   "execution_count": null,
   "id": "32e0beae",
   "metadata": {},
   "outputs": [],
   "source": [
    "df[df.title=='Cinderella']"
   ]
  },
  {
   "cell_type": "code",
   "execution_count": null,
   "id": "7ff21937",
   "metadata": {},
   "outputs": [],
   "source": [
    "df.columns"
   ]
  },
  {
   "cell_type": "markdown",
   "id": "548ccd6d",
   "metadata": {},
   "source": [
    "# Best and worst movies"
   ]
  },
  {
   "cell_type": "code",
   "execution_count": null,
   "id": "973c191d",
   "metadata": {},
   "outputs": [],
   "source": [
    "from IPython.display import HTML \n",
    "df_best=df[['poster_path','title','budget_musd','revenue_musd','vote_count','vote_average','popularity']].copy()\n",
    "\n",
    "df_best.head()"
   ]
  },
  {
   "cell_type": "code",
   "execution_count": null,
   "id": "554375d9",
   "metadata": {},
   "outputs": [],
   "source": [
    "df_best.columns=['poster_path','title','budget_musd','revenue_musd','vote_count','vote_average','popularity']"
   ]
  },
  {
   "cell_type": "code",
   "execution_count": null,
   "id": "8f60d18e",
   "metadata": {},
   "outputs": [],
   "source": [
    "df_best['profit_musd']=df.revenue_musd.sub(df.budget_musd)\n",
    "df_best['ROI']=df.revenue_musd.div(df.budget_musd)\n"
   ]
  },
  {
   "cell_type": "code",
   "execution_count": null,
   "id": "25082b8c",
   "metadata": {},
   "outputs": [],
   "source": [
    "df_best"
   ]
  },
  {
   "cell_type": "code",
   "execution_count": null,
   "id": "94d8c8e7",
   "metadata": {},
   "outputs": [],
   "source": [
    "df_best.columns= ['','title','budget','revenue','votes','average_Rating','popularity',\n",
    "                 'profit_musd','ROI']\n",
    "df_best.head(3)"
   ]
  },
  {
   "cell_type": "code",
   "execution_count": null,
   "id": "da203b33",
   "metadata": {},
   "outputs": [],
   "source": [
    "df_best.set_index('title',inplace=True)"
   ]
  },
  {
   "cell_type": "code",
   "execution_count": null,
   "id": "44c7a41f",
   "metadata": {},
   "outputs": [],
   "source": [
    "df_best"
   ]
  },
  {
   "cell_type": "code",
   "execution_count": null,
   "id": "fea0d902",
   "metadata": {},
   "outputs": [],
   "source": [
    "df_best.iloc[0,0]"
   ]
  },
  {
   "cell_type": "code",
   "execution_count": null,
   "id": "89e160c0",
   "metadata": {},
   "outputs": [],
   "source": [
    "subset = df_best.iloc[:5,:2]\n",
    "subset"
   ]
  },
  {
   "cell_type": "code",
   "execution_count": null,
   "id": "231f34b7",
   "metadata": {},
   "outputs": [],
   "source": [
    "HTML(subset.to_html(escape=False))"
   ]
  },
  {
   "cell_type": "code",
   "execution_count": null,
   "id": "09c7e374",
   "metadata": {},
   "outputs": [],
   "source": [
    "df_best.sort_values(by ='average_Rating',ascending = False)"
   ]
  },
  {
   "cell_type": "code",
   "execution_count": null,
   "id": "ce2dc74f",
   "metadata": {},
   "outputs": [],
   "source": [
    "df_best.sort_values(by = 'ROI',ascending = False)"
   ]
  },
  {
   "cell_type": "code",
   "execution_count": null,
   "id": "2a68b0ae",
   "metadata": {},
   "outputs": [],
   "source": [
    "df_best.loc[df_best.budget >=5].sort_values(by = 'ROI',ascending = False)"
   ]
  },
  {
   "cell_type": "code",
   "execution_count": null,
   "id": "99648c6c",
   "metadata": {},
   "outputs": [],
   "source": [
    "df_best.budget.fillna(0,inplace = True)\n",
    "df_best.votes.fillna(0,inplace = True)"
   ]
  },
  {
   "cell_type": "code",
   "execution_count": null,
   "id": "bfc1e03a",
   "metadata": {},
   "outputs": [],
   "source": [
    "def best_worst(n,by,ascending=False,min_bud =0,min_votes =0):\n",
    "    d2 =df_best.loc[(df_best.budget >= min_bud) & (df_best.votes >= min_votes),\n",
    "                    ['',by]].sort_values(by=by,ascending=ascending).head(n).copy()\n",
    "    return HTML(d2.to_html(escape =False))\n"
   ]
  },
  {
   "cell_type": "markdown",
   "id": "d2ab7add",
   "metadata": {},
   "source": [
    "# The best and worst movies"
   ]
  },
  {
   "cell_type": "code",
   "execution_count": null,
   "id": "66a9c32d",
   "metadata": {},
   "outputs": [],
   "source": [
    "best_worst(n=5,by='revenue',min_votes=30)"
   ]
  },
  {
   "cell_type": "code",
   "execution_count": null,
   "id": "31f7ce2a",
   "metadata": {},
   "outputs": [],
   "source": [
    "best_worst(n=5,by ='votes')"
   ]
  },
  {
   "cell_type": "code",
   "execution_count": null,
   "id": "702295ba",
   "metadata": {},
   "outputs": [],
   "source": [
    "best_worst(n=5,by = 'budget')"
   ]
  },
  {
   "cell_type": "code",
   "execution_count": null,
   "id": "ba0d8b5d",
   "metadata": {},
   "outputs": [],
   "source": [
    "best_worst(n=5,by ='profit_musd')"
   ]
  },
  {
   "cell_type": "code",
   "execution_count": null,
   "id": "d4f4d57d",
   "metadata": {},
   "outputs": [],
   "source": [
    "best_worst(n=5,by='profit_musd',ascending=True)"
   ]
  },
  {
   "cell_type": "markdown",
   "id": "1875efa6",
   "metadata": {},
   "source": [
    "# find your next movie"
   ]
  },
  {
   "cell_type": "markdown",
   "id": "4801d90d",
   "metadata": {},
   "source": [
    "# science fiction movies with bruce wilis"
   ]
  },
  {
   "cell_type": "code",
   "execution_count": null,
   "id": "b55bab48",
   "metadata": {},
   "outputs": [],
   "source": [
    "df.genres[7]"
   ]
  },
  {
   "cell_type": "code",
   "execution_count": null,
   "id": "60782846",
   "metadata": {},
   "outputs": [],
   "source": [
    "df.columns"
   ]
  },
  {
   "cell_type": "code",
   "execution_count": null,
   "id": "b92bab8a",
   "metadata": {},
   "outputs": [],
   "source": [
    "mask_genres = df.genres.str.contains('Action') & df.genres.str.contains('Science Fiction')\n",
    "mask_genres"
   ]
  },
  {
   "cell_type": "code",
   "execution_count": null,
   "id": "d383e275",
   "metadata": {},
   "outputs": [],
   "source": [
    "mask_actor= df.cast.str.contains('Bruce Willis')\n",
    "mask_actor"
   ]
  },
  {
   "cell_type": "code",
   "execution_count": null,
   "id": "dba21ae7",
   "metadata": {},
   "outputs": [],
   "source": [
    "df.loc[ mask_actor & mask_genres,[\"title\", \"vote_average\"]].sort_values(by = \"vote_average\",ascending = True)                                                                   "
   ]
  },
  {
   "cell_type": "code",
   "execution_count": null,
   "id": "4e299d01",
   "metadata": {},
   "outputs": [],
   "source": [
    "bruce = df.loc[ mask_actor & mask_genres,[\"title\",\"poster_path\", \"vote_average\"]].sort_values(by = \"vote_average\",ascending = True) \n",
    "bruce"
   ]
  },
  {
   "cell_type": "code",
   "execution_count": null,
   "id": "5e98116d",
   "metadata": {},
   "outputs": [],
   "source": [
    "df.columns"
   ]
  },
  {
   "cell_type": "code",
   "execution_count": null,
   "id": "556ffd4e",
   "metadata": {},
   "outputs": [],
   "source": [
    " HTML(bruce.to_html(escape=False))"
   ]
  },
  {
   "cell_type": "markdown",
   "id": "d19ef386",
   "metadata": {},
   "source": [
    "# movies acted by Uma Truman and directed by Quentin Tarantino (low runtime)"
   ]
  },
  {
   "cell_type": "code",
   "execution_count": null,
   "id": "53fcdb25",
   "metadata": {},
   "outputs": [],
   "source": [
    "df.director"
   ]
  },
  {
   "cell_type": "code",
   "execution_count": null,
   "id": "5667d0f0",
   "metadata": {},
   "outputs": [],
   "source": [
    "mask_director =df.director=='Quentin Tarantino'\n",
    "mask_director"
   ]
  },
  {
   "cell_type": "code",
   "execution_count": null,
   "id": "a02afbee",
   "metadata": {},
   "outputs": [],
   "source": [
    "mask_actor = df.cast.str.contains('Uma Thurman')\n",
    "mask_actor"
   ]
  },
  {
   "cell_type": "code",
   "execution_count": null,
   "id": "c4b6309e",
   "metadata": {},
   "outputs": [],
   "source": [
    "quentin = df.loc[mask_director & mask_actor, \n",
    "               [\"title\", \"poster_path\", \"runtime\"]].sort_values(by = \"runtime\").set_index(\"title\")\n",
    "quentin"
   ]
  },
  {
   "cell_type": "code",
   "execution_count": null,
   "id": "9cce417f",
   "metadata": {},
   "outputs": [],
   "source": [
    "HTML(quentin.to_html(escape = False))"
   ]
  },
  {
   "cell_type": "markdown",
   "id": "6809238a",
   "metadata": {},
   "source": [
    "# __Search 3: Most Successful Pixar Studio Movies between 2010 and 2015 (high Revenue)__"
   ]
  },
  {
   "cell_type": "code",
   "execution_count": null,
   "id": "400c4b6d",
   "metadata": {},
   "outputs": [],
   "source": [
    "df.production_companies"
   ]
  },
  {
   "cell_type": "code",
   "execution_count": null,
   "id": "3fc3a587",
   "metadata": {},
   "outputs": [],
   "source": [
    "mask_studio= df.production_companies.str.contains('Pixar').fillna(False)\n",
    "mask_studio\n"
   ]
  },
  {
   "cell_type": "code",
   "execution_count": null,
   "id": "8402ca0d",
   "metadata": {},
   "outputs": [],
   "source": [
    "df.release_date"
   ]
  },
  {
   "cell_type": "code",
   "execution_count": null,
   "id": "30afc711",
   "metadata": {},
   "outputs": [],
   "source": [
    "mask_time = df.release_date.between('2010-01-01','2015-12-31')\n",
    "mask_time"
   ]
  },
  {
   "cell_type": "code",
   "execution_count": null,
   "id": "ca48e2ac",
   "metadata": {},
   "outputs": [],
   "source": [
    "pixar =df.loc[mask_studio & mask_time,['title','poster_path','revenue_musd','release_date']].sort_values(by='revenue_musd',ascending=False).set_index('title')\n",
    "pixar"
   ]
  },
  {
   "cell_type": "code",
   "execution_count": null,
   "id": "5609c995",
   "metadata": {},
   "outputs": [],
   "source": [
    "HTML(pixar.to_html(escape =False))"
   ]
  },
  {
   "cell_type": "markdown",
   "id": "21cd2795",
   "metadata": {},
   "source": [
    "# Search 4: Action or Thriller Movie with original language English and minimum Rating of 7.5 (most recent)"
   ]
  },
  {
   "cell_type": "code",
   "execution_count": null,
   "id": "c40e7451",
   "metadata": {},
   "outputs": [],
   "source": [
    "mask_genres=df.genres.str.contains('Action') | df.genres.str.contains('Thriller')\n",
    "mask_genres\n"
   ]
  },
  {
   "cell_type": "code",
   "execution_count": null,
   "id": "d0aad274",
   "metadata": {},
   "outputs": [],
   "source": [
    "mask_lan = df.original_language =='en'\n",
    "mask_lan"
   ]
  },
  {
   "cell_type": "code",
   "execution_count": null,
   "id": "4405e6cf",
   "metadata": {},
   "outputs": [],
   "source": [
    "mask_vote_av = df.vote_average >=7.5\n",
    "mask_vote_av"
   ]
  },
  {
   "cell_type": "code",
   "execution_count": null,
   "id": "a74e2701",
   "metadata": {},
   "outputs": [],
   "source": [
    "mask_vote_count = df.vote_count> 10\n",
    "mask_vote_count"
   ]
  },
  {
   "cell_type": "code",
   "execution_count": null,
   "id": "ce7ccc1f",
   "metadata": {},
   "outputs": [],
   "source": [
    "df.columns"
   ]
  },
  {
   "cell_type": "code",
   "execution_count": null,
   "id": "c3a0710f",
   "metadata": {},
   "outputs": [],
   "source": [
    "next_mov=df.loc[mask_genres & mask_lan & mask_vote_av & mask_vote_count,['title','genres','original_language','vote_average','poster_path','release_date']].sort_values(by='release_date',ascending= False).set_index('title').head(6)\n",
    "next_mov"
   ]
  },
  {
   "cell_type": "code",
   "execution_count": null,
   "id": "339a0d01",
   "metadata": {},
   "outputs": [],
   "source": [
    "HTML(next_mov.to_html(escape=False))"
   ]
  },
  {
   "cell_type": "code",
   "execution_count": null,
   "id": "6bbc5f07",
   "metadata": {},
   "outputs": [],
   "source": [
    "from wordcloud import WordCloud"
   ]
  },
  {
   "cell_type": "code",
   "execution_count": null,
   "id": "91a44062",
   "metadata": {},
   "outputs": [],
   "source": [
    "df"
   ]
  },
  {
   "cell_type": "code",
   "execution_count": null,
   "id": "0c6372d4",
   "metadata": {},
   "outputs": [],
   "source": [
    "title = df.title.dropna()\n",
    "overview=df.overview.dropna()\n",
    "tagline = df.tagline.dropna()\n"
   ]
  },
  {
   "cell_type": "code",
   "execution_count": null,
   "id": "0e922ca3",
   "metadata": {},
   "outputs": [],
   "source": [
    "title_corpus = ''.join(title)"
   ]
  },
  {
   "cell_type": "code",
   "execution_count": null,
   "id": "7bc407a5",
   "metadata": {},
   "outputs": [],
   "source": [
    "tagline_corpus =''.join(tagline)"
   ]
  },
  {
   "cell_type": "code",
   "execution_count": null,
   "id": "e32a76ca",
   "metadata": {},
   "outputs": [],
   "source": [
    "overview_corpus = ''.join(overview)"
   ]
  },
  {
   "cell_type": "code",
   "execution_count": null,
   "id": "e84175b2",
   "metadata": {},
   "outputs": [],
   "source": [
    "title_wordcloud = WordCloud(background_color ='white',height =2000,width =4000).generate(title_corpus)\n",
    "title_wordcloud"
   ]
  },
  {
   "cell_type": "code",
   "execution_count": null,
   "id": "af3239f9",
   "metadata": {},
   "outputs": [],
   "source": [
    "import matplotlib.pyplot as plt\n",
    "plt.figure(figsize=(10,10))\n",
    "plt.imshow(title_wordcloud, interpolation= \"bilinear\")\n",
    "plt.axis('off')\n",
    "plt.show()"
   ]
  },
  {
   "cell_type": "code",
   "execution_count": null,
   "id": "329d7dd4",
   "metadata": {},
   "outputs": [],
   "source": [
    "tagline_wordcloud = WordCloud(background_color ='Red',height = 2000,width=4000).generate(tagline_corpus)\n",
    "tagline_wordcloud"
   ]
  },
  {
   "cell_type": "code",
   "execution_count": null,
   "id": "76483d83",
   "metadata": {
    "scrolled": true
   },
   "outputs": [],
   "source": [
    "plt.figure(figsize=(16,8))\n",
    "plt.imshow(tagline_wordcloud,interpolation = 'bilinear')\n",
    "plt.axis('off')\n",
    "plt.show()"
   ]
  },
  {
   "cell_type": "code",
   "execution_count": null,
   "id": "6646e412",
   "metadata": {},
   "outputs": [],
   "source": [
    "overview_wordcloud = WordCloud(background_color='White', mode='CMYK',height=2000, width=4000).generate(overview_corpus)\n",
    "overview_wordcloud"
   ]
  },
  {
   "cell_type": "code",
   "execution_count": null,
   "id": "a90df29a",
   "metadata": {},
   "outputs": [],
   "source": [
    "plt.figure(figsize=(20,8))\n",
    "plt.imshow(overview_wordcloud,interpolation='bilinear')\n",
    "plt.axis('off')\n",
    "plt.show()"
   ]
  },
  {
   "cell_type": "markdown",
   "id": "8b53d9b4",
   "metadata": {},
   "source": [
    "# Are franchies are more successful"
   ]
  },
  {
   "cell_type": "code",
   "execution_count": null,
   "id": "17f97ce3",
   "metadata": {},
   "outputs": [],
   "source": [
    "df.belongs_to_collection"
   ]
  },
  {
   "cell_type": "code",
   "execution_count": null,
   "id": "1db670a2",
   "metadata": {},
   "outputs": [],
   "source": [
    "df['Franchise']= df.belongs_to_collection.notna()"
   ]
  },
  {
   "cell_type": "code",
   "execution_count": null,
   "id": "df1b6355",
   "metadata": {},
   "outputs": [],
   "source": [
    "df.Franchise"
   ]
  },
  {
   "cell_type": "code",
   "execution_count": null,
   "id": "fde61ae3",
   "metadata": {},
   "outputs": [],
   "source": [
    "df.Franchise.value_counts()"
   ]
  },
  {
   "cell_type": "markdown",
   "id": "9a4b19d2",
   "metadata": {},
   "source": [
    "# Franchise vs standalone via revenue"
   ]
  },
  {
   "cell_type": "code",
   "execution_count": null,
   "id": "91a05676",
   "metadata": {},
   "outputs": [],
   "source": [
    "df.groupby('Franchise').revenue_musd.mean()"
   ]
  },
  {
   "cell_type": "markdown",
   "id": "e15e04fa",
   "metadata": {},
   "source": [
    "# Franchise vs standalone via investment"
   ]
  },
  {
   "cell_type": "code",
   "execution_count": null,
   "id": "090fb330",
   "metadata": {},
   "outputs": [],
   "source": [
    "df['ROI']= df.revenue_musd.div(df.budget_musd)\n",
    "df['ROI']"
   ]
  },
  {
   "cell_type": "code",
   "execution_count": null,
   "id": "9bffc6a8",
   "metadata": {},
   "outputs": [],
   "source": [
    "df.groupby('Franchise').ROI.median()"
   ]
  },
  {
   "cell_type": "markdown",
   "id": "3ad726c7",
   "metadata": {},
   "source": [
    "# Franchise vs standalone via average budget"
   ]
  },
  {
   "cell_type": "code",
   "execution_count": null,
   "id": "778827a0",
   "metadata": {},
   "outputs": [],
   "source": [
    "df.groupby('Franchise').budget_musd.mean()"
   ]
  },
  {
   "cell_type": "markdown",
   "id": "d97b58ea",
   "metadata": {},
   "source": [
    "# Franchise vs standalone via popularity"
   ]
  },
  {
   "cell_type": "code",
   "execution_count": null,
   "id": "c954bbbd",
   "metadata": {},
   "outputs": [],
   "source": [
    "df.columns"
   ]
  },
  {
   "cell_type": "code",
   "execution_count": null,
   "id": "9bcaed60",
   "metadata": {},
   "outputs": [],
   "source": [
    "df.popularity"
   ]
  },
  {
   "cell_type": "code",
   "execution_count": null,
   "id": "87deb863",
   "metadata": {},
   "outputs": [],
   "source": [
    "df.groupby('Franchise').popularity.mean()"
   ]
  },
  {
   "cell_type": "code",
   "execution_count": null,
   "id": "8c44244b",
   "metadata": {},
   "outputs": [],
   "source": [
    "df.groupby(\"Franchise\").agg({'budget_musd':'mean','revenue_musd': 'mean','vote_average':'mean'})"
   ]
  },
  {
   "cell_type": "markdown",
   "id": "3aa3c3b5",
   "metadata": {},
   "source": [
    "# Most successful Franchise movies"
   ]
  },
  {
   "cell_type": "code",
   "execution_count": null,
   "id": "c774cf88",
   "metadata": {},
   "outputs": [],
   "source": [
    "df.belongs_to_collection"
   ]
  },
  {
   "cell_type": "code",
   "execution_count": null,
   "id": "f784544d",
   "metadata": {},
   "outputs": [],
   "source": [
    "df.belongs_to_collection.value_counts()"
   ]
  },
  {
   "cell_type": "code",
   "execution_count": null,
   "id": "a4d39080",
   "metadata": {},
   "outputs": [],
   "source": [
    "franchise = df.groupby(df.belongs_to_collection).agg({'title':'count','budget_musd':['mean','sum'],'revenue_musd'\n",
    ":['mean','sum'],'vote_average':'mean','popularity':'mean','ROI':'median','vote_average':'mean'})\n",
    "franchise"
   ]
  },
  {
   "cell_type": "code",
   "execution_count": null,
   "id": "9824b830",
   "metadata": {},
   "outputs": [],
   "source": [
    "franchise.nlargest(10,('title','count'))"
   ]
  },
  {
   "cell_type": "code",
   "execution_count": null,
   "id": "2e47dd11",
   "metadata": {},
   "outputs": [],
   "source": [
    "franchise.nlargest(5,('budget_musd','sum'))"
   ]
  },
  {
   "cell_type": "markdown",
   "id": "b227dc30",
   "metadata": {},
   "source": [
    "# most successful directors\n"
   ]
  },
  {
   "cell_type": "code",
   "execution_count": null,
   "id": "6562286a",
   "metadata": {},
   "outputs": [],
   "source": [
    "df.director"
   ]
  },
  {
   "cell_type": "code",
   "execution_count": null,
   "id": "04d35f17",
   "metadata": {},
   "outputs": [],
   "source": [
    "df.director.value_counts().head(20)"
   ]
  },
  {
   "cell_type": "code",
   "execution_count": null,
   "id": "bf635532",
   "metadata": {},
   "outputs": [],
   "source": [
    "import matplotlib.pyplot as plt\n",
    "plt.figure(figsize =(20,8))\n",
    "df.director.value_counts().head(20).plot(kind = 'bar',fontsize=15)\n",
    "plt.title('most active directors')\n",
    "plt.ylabel('Number of movies',fontsize=15)\n",
    "plt.show()"
   ]
  },
  {
   "cell_type": "code",
   "execution_count": null,
   "id": "f6609a78",
   "metadata": {},
   "outputs": [],
   "source": [
    "df.groupby('director').revenue_musd.sum().nlargest(20)"
   ]
  },
  {
   "cell_type": "code",
   "execution_count": null,
   "id": "c1f4204e",
   "metadata": {},
   "outputs": [],
   "source": [
    "plt.figure(figsize = (20,8))\n",
    "df.groupby('director').revenue_musd.sum().nlargest(20).plot(kind = 'bar',fontsize =15)\n",
    "plt.title('successful',fontsize = 10)\n",
    "plt.ylabel('revenue',fontsize = 10)\n",
    "plt.show()"
   ]
  },
  {
   "cell_type": "code",
   "execution_count": null,
   "id": "dc6ef9d4",
   "metadata": {
    "scrolled": true
   },
   "outputs": [],
   "source": [
    "director = df.groupby('director').agg({'title':'count','vote_average':'sum','vote_count': 'mean'})\n",
    "director"
   ]
  },
  {
   "cell_type": "code",
   "execution_count": null,
   "id": "a9d5809a",
   "metadata": {},
   "outputs": [],
   "source": [
    "director[(director.vote_count >= 1000) & (director.title >= 10) ].nlargest(20, \"vote_average\")"
   ]
  },
  {
   "cell_type": "code",
   "execution_count": null,
   "id": "d53032b2",
   "metadata": {},
   "outputs": [],
   "source": [
    "df.genres = df.genres.astype(str)\n",
    "df.genres"
   ]
  },
  {
   "cell_type": "code",
   "execution_count": null,
   "id": "93ff13c3",
   "metadata": {},
   "outputs": [],
   "source": [
    "df.loc[df.genres.str.contains('Horror')].groupby('director').revenue_musd.sum().nlargest(20)"
   ]
  },
  {
   "cell_type": "markdown",
   "id": "a4ccdf23",
   "metadata": {},
   "source": [
    "# most successful actor\n"
   ]
  },
  {
   "cell_type": "code",
   "execution_count": 8,
   "id": "ac36e02e",
   "metadata": {},
   "outputs": [
    {
     "data": {
      "text/plain": [
       "0        Tom Hanks|Tim Allen|Don Rickles|Jim Varney|Wal...\n",
       "1        Robin Williams|Jonathan Hyde|Kirsten Dunst|Bra...\n",
       "2        Walter Matthau|Jack Lemmon|Ann-Margret|Sophia ...\n",
       "3        Whitney Houston|Angela Bassett|Loretta Devine|...\n",
       "4        Steve Martin|Diane Keaton|Martin Short|Kimberl...\n",
       "                               ...                        \n",
       "44686              Leila Hatami|Kourosh Tahami|Elham Korda\n",
       "44687    Angel Aquino|Perry Dizon|Hazel Orencio|Joel To...\n",
       "44688    Erika Eleniak|Adam Baldwin|Julie du Page|James...\n",
       "44689    Iwan Mosschuchin|Nathalie Lissenko|Pavel Pavlo...\n",
       "44690                                                  NaN\n",
       "Name: cast, Length: 44691, dtype: object"
      ]
     },
     "execution_count": 8,
     "metadata": {},
     "output_type": "execute_result"
    }
   ],
   "source": [
    "df.cast"
   ]
  },
  {
   "cell_type": "code",
   "execution_count": 18,
   "id": "4a0f2b70",
   "metadata": {},
   "outputs": [],
   "source": [
    "df.set_index('id',inplace = True)"
   ]
  },
  {
   "cell_type": "code",
   "execution_count": null,
   "id": "6cf0d635",
   "metadata": {},
   "outputs": [],
   "source": [
    "df"
   ]
  },
  {
   "cell_type": "code",
   "execution_count": 17,
   "id": "481bb2d9",
   "metadata": {},
   "outputs": [
    {
     "name": "stdout",
     "output_type": "stream",
     "text": [
      "<class 'pandas.core.frame.DataFrame'>\n",
      "RangeIndex: 44691 entries, 0 to 44690\n",
      "Data columns (total 22 columns):\n",
      " #   Column                 Non-Null Count  Dtype  \n",
      "---  ------                 --------------  -----  \n",
      " 0   id                     44691 non-null  int64  \n",
      " 1   title                  44691 non-null  object \n",
      " 2   tagline                20284 non-null  object \n",
      " 3   release_date           44657 non-null  object \n",
      " 4   genres                 42586 non-null  object \n",
      " 5   belongs_to_collection  4463 non-null   object \n",
      " 6   original_language      44681 non-null  object \n",
      " 7   budget_musd            8854 non-null   float64\n",
      " 8   revenue_musd           7385 non-null   float64\n",
      " 9   production_companies   33356 non-null  object \n",
      " 10  production_countries   38835 non-null  object \n",
      " 11  vote_count             44691 non-null  float64\n",
      " 12  vote_average           42077 non-null  float64\n",
      " 13  popularity             44691 non-null  float64\n",
      " 14  runtime                43179 non-null  float64\n",
      " 15  overview               43740 non-null  object \n",
      " 16  spoken_languages       41094 non-null  object \n",
      " 17  poster_path            44467 non-null  object \n",
      " 18  cast                   42502 non-null  object \n",
      " 19  cast_size              44691 non-null  int64  \n",
      " 20  crew_size              44691 non-null  int64  \n",
      " 21  director               43960 non-null  object \n",
      "dtypes: float64(6), int64(3), object(13)\n",
      "memory usage: 7.5+ MB\n"
     ]
    }
   ],
   "source": [
    "df.info()"
   ]
  },
  {
   "cell_type": "code",
   "execution_count": 16,
   "id": "e9f19ba8",
   "metadata": {},
   "outputs": [
    {
     "data": {
      "text/plain": [
       "0        Tom Hanks|Tim Allen|Don Rickles|Jim Varney|Wal...\n",
       "1        Robin Williams|Jonathan Hyde|Kirsten Dunst|Bra...\n",
       "2        Walter Matthau|Jack Lemmon|Ann-Margret|Sophia ...\n",
       "3        Whitney Houston|Angela Bassett|Loretta Devine|...\n",
       "4        Steve Martin|Diane Keaton|Martin Short|Kimberl...\n",
       "                               ...                        \n",
       "44686              Leila Hatami|Kourosh Tahami|Elham Korda\n",
       "44687    Angel Aquino|Perry Dizon|Hazel Orencio|Joel To...\n",
       "44688    Erika Eleniak|Adam Baldwin|Julie du Page|James...\n",
       "44689    Iwan Mosschuchin|Nathalie Lissenko|Pavel Pavlo...\n",
       "44690                                                  NaN\n",
       "Name: cast, Length: 44691, dtype: object"
      ]
     },
     "execution_count": 16,
     "metadata": {},
     "output_type": "execute_result"
    }
   ],
   "source": [
    "df.cast"
   ]
  },
  {
   "cell_type": "code",
   "execution_count": 15,
   "id": "0b8d2024",
   "metadata": {},
   "outputs": [
    {
     "data": {
      "text/plain": [
       "0        [Tom Hanks, Tim Allen, Don Rickles, Jim Varney...\n",
       "1        [Robin Williams, Jonathan Hyde, Kirsten Dunst,...\n",
       "2        [Walter Matthau, Jack Lemmon, Ann-Margret, Sop...\n",
       "3        [Whitney Houston, Angela Bassett, Loretta Devi...\n",
       "4        [Steve Martin, Diane Keaton, Martin Short, Kim...\n",
       "                               ...                        \n",
       "44686          [Leila Hatami, Kourosh Tahami, Elham Korda]\n",
       "44687    [Angel Aquino, Perry Dizon, Hazel Orencio, Joe...\n",
       "44688    [Erika Eleniak, Adam Baldwin, Julie du Page, J...\n",
       "44689    [Iwan Mosschuchin, Nathalie Lissenko, Pavel Pa...\n",
       "44690                                                  NaN\n",
       "Name: cast, Length: 44691, dtype: object"
      ]
     },
     "execution_count": 15,
     "metadata": {},
     "output_type": "execute_result"
    }
   ],
   "source": [
    "df.cast.str.split('|')"
   ]
  },
  {
   "cell_type": "code",
   "execution_count": 14,
   "id": "9bb66f67",
   "metadata": {
    "scrolled": true
   },
   "outputs": [
    {
     "data": {
      "text/html": [
       "<div>\n",
       "<style scoped>\n",
       "    .dataframe tbody tr th:only-of-type {\n",
       "        vertical-align: middle;\n",
       "    }\n",
       "\n",
       "    .dataframe tbody tr th {\n",
       "        vertical-align: top;\n",
       "    }\n",
       "\n",
       "    .dataframe thead th {\n",
       "        text-align: right;\n",
       "    }\n",
       "</style>\n",
       "<table border=\"1\" class=\"dataframe\">\n",
       "  <thead>\n",
       "    <tr style=\"text-align: right;\">\n",
       "      <th></th>\n",
       "      <th>0</th>\n",
       "      <th>1</th>\n",
       "      <th>2</th>\n",
       "      <th>3</th>\n",
       "      <th>4</th>\n",
       "      <th>5</th>\n",
       "      <th>6</th>\n",
       "      <th>7</th>\n",
       "      <th>8</th>\n",
       "      <th>9</th>\n",
       "      <th>10</th>\n",
       "      <th>11</th>\n",
       "      <th>12</th>\n",
       "      <th>13</th>\n",
       "      <th>14</th>\n",
       "      <th>...</th>\n",
       "      <th>298</th>\n",
       "      <th>299</th>\n",
       "      <th>300</th>\n",
       "      <th>301</th>\n",
       "      <th>302</th>\n",
       "      <th>303</th>\n",
       "      <th>304</th>\n",
       "      <th>305</th>\n",
       "      <th>306</th>\n",
       "      <th>307</th>\n",
       "      <th>308</th>\n",
       "      <th>309</th>\n",
       "      <th>310</th>\n",
       "      <th>311</th>\n",
       "      <th>312</th>\n",
       "    </tr>\n",
       "  </thead>\n",
       "  <tbody>\n",
       "    <tr>\n",
       "      <th>0</th>\n",
       "      <td>Tom Hanks</td>\n",
       "      <td>Tim Allen</td>\n",
       "      <td>Don Rickles</td>\n",
       "      <td>Jim Varney</td>\n",
       "      <td>Wallace Shawn</td>\n",
       "      <td>John Ratzenberger</td>\n",
       "      <td>Annie Potts</td>\n",
       "      <td>John Morris</td>\n",
       "      <td>Erik von Detten</td>\n",
       "      <td>Laurie Metcalf</td>\n",
       "      <td>R. Lee Ermey</td>\n",
       "      <td>Sarah Freeman</td>\n",
       "      <td>Penn Jillette</td>\n",
       "      <td>None</td>\n",
       "      <td>None</td>\n",
       "      <td>...</td>\n",
       "      <td>None</td>\n",
       "      <td>None</td>\n",
       "      <td>None</td>\n",
       "      <td>None</td>\n",
       "      <td>None</td>\n",
       "      <td>None</td>\n",
       "      <td>None</td>\n",
       "      <td>None</td>\n",
       "      <td>None</td>\n",
       "      <td>None</td>\n",
       "      <td>None</td>\n",
       "      <td>None</td>\n",
       "      <td>None</td>\n",
       "      <td>None</td>\n",
       "      <td>None</td>\n",
       "    </tr>\n",
       "    <tr>\n",
       "      <th>1</th>\n",
       "      <td>Robin Williams</td>\n",
       "      <td>Jonathan Hyde</td>\n",
       "      <td>Kirsten Dunst</td>\n",
       "      <td>Bradley Pierce</td>\n",
       "      <td>Bonnie Hunt</td>\n",
       "      <td>Bebe Neuwirth</td>\n",
       "      <td>David Alan Grier</td>\n",
       "      <td>Patricia Clarkson</td>\n",
       "      <td>Adam Hann-Byrd</td>\n",
       "      <td>Laura Bell Bundy</td>\n",
       "      <td>James Handy</td>\n",
       "      <td>Gillian Barber</td>\n",
       "      <td>Brandon Obray</td>\n",
       "      <td>Cyrus Thiedeke</td>\n",
       "      <td>Gary Joseph Thorup</td>\n",
       "      <td>...</td>\n",
       "      <td>None</td>\n",
       "      <td>None</td>\n",
       "      <td>None</td>\n",
       "      <td>None</td>\n",
       "      <td>None</td>\n",
       "      <td>None</td>\n",
       "      <td>None</td>\n",
       "      <td>None</td>\n",
       "      <td>None</td>\n",
       "      <td>None</td>\n",
       "      <td>None</td>\n",
       "      <td>None</td>\n",
       "      <td>None</td>\n",
       "      <td>None</td>\n",
       "      <td>None</td>\n",
       "    </tr>\n",
       "    <tr>\n",
       "      <th>2</th>\n",
       "      <td>Walter Matthau</td>\n",
       "      <td>Jack Lemmon</td>\n",
       "      <td>Ann-Margret</td>\n",
       "      <td>Sophia Loren</td>\n",
       "      <td>Daryl Hannah</td>\n",
       "      <td>Burgess Meredith</td>\n",
       "      <td>Kevin Pollak</td>\n",
       "      <td>None</td>\n",
       "      <td>None</td>\n",
       "      <td>None</td>\n",
       "      <td>None</td>\n",
       "      <td>None</td>\n",
       "      <td>None</td>\n",
       "      <td>None</td>\n",
       "      <td>None</td>\n",
       "      <td>...</td>\n",
       "      <td>None</td>\n",
       "      <td>None</td>\n",
       "      <td>None</td>\n",
       "      <td>None</td>\n",
       "      <td>None</td>\n",
       "      <td>None</td>\n",
       "      <td>None</td>\n",
       "      <td>None</td>\n",
       "      <td>None</td>\n",
       "      <td>None</td>\n",
       "      <td>None</td>\n",
       "      <td>None</td>\n",
       "      <td>None</td>\n",
       "      <td>None</td>\n",
       "      <td>None</td>\n",
       "    </tr>\n",
       "    <tr>\n",
       "      <th>3</th>\n",
       "      <td>Whitney Houston</td>\n",
       "      <td>Angela Bassett</td>\n",
       "      <td>Loretta Devine</td>\n",
       "      <td>Lela Rochon</td>\n",
       "      <td>Gregory Hines</td>\n",
       "      <td>Dennis Haysbert</td>\n",
       "      <td>Michael Beach</td>\n",
       "      <td>Mykelti Williamson</td>\n",
       "      <td>Lamont Johnson</td>\n",
       "      <td>Wesley Snipes</td>\n",
       "      <td>None</td>\n",
       "      <td>None</td>\n",
       "      <td>None</td>\n",
       "      <td>None</td>\n",
       "      <td>None</td>\n",
       "      <td>...</td>\n",
       "      <td>None</td>\n",
       "      <td>None</td>\n",
       "      <td>None</td>\n",
       "      <td>None</td>\n",
       "      <td>None</td>\n",
       "      <td>None</td>\n",
       "      <td>None</td>\n",
       "      <td>None</td>\n",
       "      <td>None</td>\n",
       "      <td>None</td>\n",
       "      <td>None</td>\n",
       "      <td>None</td>\n",
       "      <td>None</td>\n",
       "      <td>None</td>\n",
       "      <td>None</td>\n",
       "    </tr>\n",
       "    <tr>\n",
       "      <th>4</th>\n",
       "      <td>Steve Martin</td>\n",
       "      <td>Diane Keaton</td>\n",
       "      <td>Martin Short</td>\n",
       "      <td>Kimberly Williams-Paisley</td>\n",
       "      <td>George Newbern</td>\n",
       "      <td>Kieran Culkin</td>\n",
       "      <td>BD Wong</td>\n",
       "      <td>Peter Michael Goetz</td>\n",
       "      <td>Kate McGregor-Stewart</td>\n",
       "      <td>Jane Adams</td>\n",
       "      <td>Eugene Levy</td>\n",
       "      <td>Lori Alan</td>\n",
       "      <td>None</td>\n",
       "      <td>None</td>\n",
       "      <td>None</td>\n",
       "      <td>...</td>\n",
       "      <td>None</td>\n",
       "      <td>None</td>\n",
       "      <td>None</td>\n",
       "      <td>None</td>\n",
       "      <td>None</td>\n",
       "      <td>None</td>\n",
       "      <td>None</td>\n",
       "      <td>None</td>\n",
       "      <td>None</td>\n",
       "      <td>None</td>\n",
       "      <td>None</td>\n",
       "      <td>None</td>\n",
       "      <td>None</td>\n",
       "      <td>None</td>\n",
       "      <td>None</td>\n",
       "    </tr>\n",
       "    <tr>\n",
       "      <th>...</th>\n",
       "      <td>...</td>\n",
       "      <td>...</td>\n",
       "      <td>...</td>\n",
       "      <td>...</td>\n",
       "      <td>...</td>\n",
       "      <td>...</td>\n",
       "      <td>...</td>\n",
       "      <td>...</td>\n",
       "      <td>...</td>\n",
       "      <td>...</td>\n",
       "      <td>...</td>\n",
       "      <td>...</td>\n",
       "      <td>...</td>\n",
       "      <td>...</td>\n",
       "      <td>...</td>\n",
       "      <td>...</td>\n",
       "      <td>...</td>\n",
       "      <td>...</td>\n",
       "      <td>...</td>\n",
       "      <td>...</td>\n",
       "      <td>...</td>\n",
       "      <td>...</td>\n",
       "      <td>...</td>\n",
       "      <td>...</td>\n",
       "      <td>...</td>\n",
       "      <td>...</td>\n",
       "      <td>...</td>\n",
       "      <td>...</td>\n",
       "      <td>...</td>\n",
       "      <td>...</td>\n",
       "      <td>...</td>\n",
       "    </tr>\n",
       "    <tr>\n",
       "      <th>44686</th>\n",
       "      <td>Leila Hatami</td>\n",
       "      <td>Kourosh Tahami</td>\n",
       "      <td>Elham Korda</td>\n",
       "      <td>None</td>\n",
       "      <td>None</td>\n",
       "      <td>None</td>\n",
       "      <td>None</td>\n",
       "      <td>None</td>\n",
       "      <td>None</td>\n",
       "      <td>None</td>\n",
       "      <td>None</td>\n",
       "      <td>None</td>\n",
       "      <td>None</td>\n",
       "      <td>None</td>\n",
       "      <td>None</td>\n",
       "      <td>...</td>\n",
       "      <td>None</td>\n",
       "      <td>None</td>\n",
       "      <td>None</td>\n",
       "      <td>None</td>\n",
       "      <td>None</td>\n",
       "      <td>None</td>\n",
       "      <td>None</td>\n",
       "      <td>None</td>\n",
       "      <td>None</td>\n",
       "      <td>None</td>\n",
       "      <td>None</td>\n",
       "      <td>None</td>\n",
       "      <td>None</td>\n",
       "      <td>None</td>\n",
       "      <td>None</td>\n",
       "    </tr>\n",
       "    <tr>\n",
       "      <th>44687</th>\n",
       "      <td>Angel Aquino</td>\n",
       "      <td>Perry Dizon</td>\n",
       "      <td>Hazel Orencio</td>\n",
       "      <td>Joel Torre</td>\n",
       "      <td>Bart Guingona</td>\n",
       "      <td>Soliman Cruz</td>\n",
       "      <td>Roeder</td>\n",
       "      <td>Angeli Bayani</td>\n",
       "      <td>Dante Perez</td>\n",
       "      <td>Betty Uy-Regala</td>\n",
       "      <td>Modesta</td>\n",
       "      <td>None</td>\n",
       "      <td>None</td>\n",
       "      <td>None</td>\n",
       "      <td>None</td>\n",
       "      <td>...</td>\n",
       "      <td>None</td>\n",
       "      <td>None</td>\n",
       "      <td>None</td>\n",
       "      <td>None</td>\n",
       "      <td>None</td>\n",
       "      <td>None</td>\n",
       "      <td>None</td>\n",
       "      <td>None</td>\n",
       "      <td>None</td>\n",
       "      <td>None</td>\n",
       "      <td>None</td>\n",
       "      <td>None</td>\n",
       "      <td>None</td>\n",
       "      <td>None</td>\n",
       "      <td>None</td>\n",
       "    </tr>\n",
       "    <tr>\n",
       "      <th>44688</th>\n",
       "      <td>Erika Eleniak</td>\n",
       "      <td>Adam Baldwin</td>\n",
       "      <td>Julie du Page</td>\n",
       "      <td>James Remar</td>\n",
       "      <td>Damian Chapa</td>\n",
       "      <td>Louis Mandylor</td>\n",
       "      <td>Tom Wright</td>\n",
       "      <td>Jeremy Lelliott</td>\n",
       "      <td>James Quattrochi</td>\n",
       "      <td>Jason Widener</td>\n",
       "      <td>Joe Sabatino</td>\n",
       "      <td>Kiko Ellsworth</td>\n",
       "      <td>Don Swayze</td>\n",
       "      <td>Peter Dobson</td>\n",
       "      <td>Darrell Dubovsky</td>\n",
       "      <td>...</td>\n",
       "      <td>None</td>\n",
       "      <td>None</td>\n",
       "      <td>None</td>\n",
       "      <td>None</td>\n",
       "      <td>None</td>\n",
       "      <td>None</td>\n",
       "      <td>None</td>\n",
       "      <td>None</td>\n",
       "      <td>None</td>\n",
       "      <td>None</td>\n",
       "      <td>None</td>\n",
       "      <td>None</td>\n",
       "      <td>None</td>\n",
       "      <td>None</td>\n",
       "      <td>None</td>\n",
       "    </tr>\n",
       "    <tr>\n",
       "      <th>44689</th>\n",
       "      <td>Iwan Mosschuchin</td>\n",
       "      <td>Nathalie Lissenko</td>\n",
       "      <td>Pavel Pavlov</td>\n",
       "      <td>Aleksandr Chabrov</td>\n",
       "      <td>Vera Orlova</td>\n",
       "      <td>None</td>\n",
       "      <td>None</td>\n",
       "      <td>None</td>\n",
       "      <td>None</td>\n",
       "      <td>None</td>\n",
       "      <td>None</td>\n",
       "      <td>None</td>\n",
       "      <td>None</td>\n",
       "      <td>None</td>\n",
       "      <td>None</td>\n",
       "      <td>...</td>\n",
       "      <td>None</td>\n",
       "      <td>None</td>\n",
       "      <td>None</td>\n",
       "      <td>None</td>\n",
       "      <td>None</td>\n",
       "      <td>None</td>\n",
       "      <td>None</td>\n",
       "      <td>None</td>\n",
       "      <td>None</td>\n",
       "      <td>None</td>\n",
       "      <td>None</td>\n",
       "      <td>None</td>\n",
       "      <td>None</td>\n",
       "      <td>None</td>\n",
       "      <td>None</td>\n",
       "    </tr>\n",
       "    <tr>\n",
       "      <th>44690</th>\n",
       "      <td>NaN</td>\n",
       "      <td>NaN</td>\n",
       "      <td>NaN</td>\n",
       "      <td>NaN</td>\n",
       "      <td>NaN</td>\n",
       "      <td>NaN</td>\n",
       "      <td>NaN</td>\n",
       "      <td>NaN</td>\n",
       "      <td>NaN</td>\n",
       "      <td>NaN</td>\n",
       "      <td>NaN</td>\n",
       "      <td>NaN</td>\n",
       "      <td>NaN</td>\n",
       "      <td>NaN</td>\n",
       "      <td>NaN</td>\n",
       "      <td>...</td>\n",
       "      <td>NaN</td>\n",
       "      <td>NaN</td>\n",
       "      <td>NaN</td>\n",
       "      <td>NaN</td>\n",
       "      <td>NaN</td>\n",
       "      <td>NaN</td>\n",
       "      <td>NaN</td>\n",
       "      <td>NaN</td>\n",
       "      <td>NaN</td>\n",
       "      <td>NaN</td>\n",
       "      <td>NaN</td>\n",
       "      <td>NaN</td>\n",
       "      <td>NaN</td>\n",
       "      <td>NaN</td>\n",
       "      <td>NaN</td>\n",
       "    </tr>\n",
       "  </tbody>\n",
       "</table>\n",
       "<p>44691 rows × 313 columns</p>\n",
       "</div>"
      ],
      "text/plain": [
       "                    0                  1               2    \\\n",
       "0             Tom Hanks          Tim Allen     Don Rickles   \n",
       "1        Robin Williams      Jonathan Hyde   Kirsten Dunst   \n",
       "2        Walter Matthau        Jack Lemmon     Ann-Margret   \n",
       "3       Whitney Houston     Angela Bassett  Loretta Devine   \n",
       "4          Steve Martin       Diane Keaton    Martin Short   \n",
       "...                 ...                ...             ...   \n",
       "44686      Leila Hatami     Kourosh Tahami     Elham Korda   \n",
       "44687      Angel Aquino        Perry Dizon   Hazel Orencio   \n",
       "44688     Erika Eleniak       Adam Baldwin   Julie du Page   \n",
       "44689  Iwan Mosschuchin  Nathalie Lissenko    Pavel Pavlov   \n",
       "44690               NaN                NaN             NaN   \n",
       "\n",
       "                             3               4                  5    \\\n",
       "0                     Jim Varney   Wallace Shawn  John Ratzenberger   \n",
       "1                 Bradley Pierce     Bonnie Hunt      Bebe Neuwirth   \n",
       "2                   Sophia Loren    Daryl Hannah   Burgess Meredith   \n",
       "3                    Lela Rochon   Gregory Hines    Dennis Haysbert   \n",
       "4      Kimberly Williams-Paisley  George Newbern      Kieran Culkin   \n",
       "...                          ...             ...                ...   \n",
       "44686                       None            None               None   \n",
       "44687                 Joel Torre   Bart Guingona      Soliman Cruz    \n",
       "44688                James Remar    Damian Chapa     Louis Mandylor   \n",
       "44689          Aleksandr Chabrov     Vera Orlova               None   \n",
       "44690                        NaN             NaN                NaN   \n",
       "\n",
       "                    6                    7                      8    \\\n",
       "0           Annie Potts          John Morris        Erik von Detten   \n",
       "1      David Alan Grier    Patricia Clarkson         Adam Hann-Byrd   \n",
       "2          Kevin Pollak                 None                   None   \n",
       "3         Michael Beach   Mykelti Williamson         Lamont Johnson   \n",
       "4               BD Wong  Peter Michael Goetz  Kate McGregor-Stewart   \n",
       "...                 ...                  ...                    ...   \n",
       "44686              None                 None                   None   \n",
       "44687            Roeder        Angeli Bayani            Dante Perez   \n",
       "44688        Tom Wright      Jeremy Lelliott       James Quattrochi   \n",
       "44689              None                 None                   None   \n",
       "44690               NaN                  NaN                    NaN   \n",
       "\n",
       "                    9             10              11             12   \\\n",
       "0        Laurie Metcalf  R. Lee Ermey   Sarah Freeman  Penn Jillette   \n",
       "1      Laura Bell Bundy   James Handy  Gillian Barber  Brandon Obray   \n",
       "2                  None          None            None           None   \n",
       "3         Wesley Snipes          None            None           None   \n",
       "4            Jane Adams   Eugene Levy       Lori Alan           None   \n",
       "...                 ...           ...             ...            ...   \n",
       "44686              None          None            None           None   \n",
       "44687   Betty Uy-Regala       Modesta            None           None   \n",
       "44688     Jason Widener  Joe Sabatino  Kiko Ellsworth     Don Swayze   \n",
       "44689              None          None            None           None   \n",
       "44690               NaN           NaN             NaN            NaN   \n",
       "\n",
       "                  13                  14   ...   298   299   300   301   302  \\\n",
       "0                None                None  ...  None  None  None  None  None   \n",
       "1      Cyrus Thiedeke  Gary Joseph Thorup  ...  None  None  None  None  None   \n",
       "2                None                None  ...  None  None  None  None  None   \n",
       "3                None                None  ...  None  None  None  None  None   \n",
       "4                None                None  ...  None  None  None  None  None   \n",
       "...               ...                 ...  ...   ...   ...   ...   ...   ...   \n",
       "44686            None                None  ...  None  None  None  None  None   \n",
       "44687            None                None  ...  None  None  None  None  None   \n",
       "44688    Peter Dobson    Darrell Dubovsky  ...  None  None  None  None  None   \n",
       "44689            None                None  ...  None  None  None  None  None   \n",
       "44690             NaN                 NaN  ...   NaN   NaN   NaN   NaN   NaN   \n",
       "\n",
       "        303   304   305   306   307   308   309   310   311   312  \n",
       "0      None  None  None  None  None  None  None  None  None  None  \n",
       "1      None  None  None  None  None  None  None  None  None  None  \n",
       "2      None  None  None  None  None  None  None  None  None  None  \n",
       "3      None  None  None  None  None  None  None  None  None  None  \n",
       "4      None  None  None  None  None  None  None  None  None  None  \n",
       "...     ...   ...   ...   ...   ...   ...   ...   ...   ...   ...  \n",
       "44686  None  None  None  None  None  None  None  None  None  None  \n",
       "44687  None  None  None  None  None  None  None  None  None  None  \n",
       "44688  None  None  None  None  None  None  None  None  None  None  \n",
       "44689  None  None  None  None  None  None  None  None  None  None  \n",
       "44690   NaN   NaN   NaN   NaN   NaN   NaN   NaN   NaN   NaN   NaN  \n",
       "\n",
       "[44691 rows x 313 columns]"
      ]
     },
     "execution_count": 14,
     "metadata": {},
     "output_type": "execute_result"
    }
   ],
   "source": [
    "act = df.cast.str.split('|',expand= True)\n",
    "act"
   ]
  },
  {
   "cell_type": "code",
   "execution_count": 19,
   "id": "e992d080",
   "metadata": {},
   "outputs": [
    {
     "data": {
      "text/html": [
       "<div>\n",
       "<style scoped>\n",
       "    .dataframe tbody tr th:only-of-type {\n",
       "        vertical-align: middle;\n",
       "    }\n",
       "\n",
       "    .dataframe tbody tr th {\n",
       "        vertical-align: top;\n",
       "    }\n",
       "\n",
       "    .dataframe thead th {\n",
       "        text-align: right;\n",
       "    }\n",
       "</style>\n",
       "<table border=\"1\" class=\"dataframe\">\n",
       "  <thead>\n",
       "    <tr style=\"text-align: right;\">\n",
       "      <th></th>\n",
       "      <th>0</th>\n",
       "    </tr>\n",
       "  </thead>\n",
       "  <tbody>\n",
       "    <tr>\n",
       "      <th>0</th>\n",
       "      <td>Tom Hanks</td>\n",
       "    </tr>\n",
       "    <tr>\n",
       "      <th>0</th>\n",
       "      <td>Tim Allen</td>\n",
       "    </tr>\n",
       "    <tr>\n",
       "      <th>0</th>\n",
       "      <td>Don Rickles</td>\n",
       "    </tr>\n",
       "    <tr>\n",
       "      <th>0</th>\n",
       "      <td>Jim Varney</td>\n",
       "    </tr>\n",
       "    <tr>\n",
       "      <th>0</th>\n",
       "      <td>Wallace Shawn</td>\n",
       "    </tr>\n",
       "    <tr>\n",
       "      <th>...</th>\n",
       "      <td>...</td>\n",
       "    </tr>\n",
       "    <tr>\n",
       "      <th>44689</th>\n",
       "      <td>Iwan Mosschuchin</td>\n",
       "    </tr>\n",
       "    <tr>\n",
       "      <th>44689</th>\n",
       "      <td>Nathalie Lissenko</td>\n",
       "    </tr>\n",
       "    <tr>\n",
       "      <th>44689</th>\n",
       "      <td>Pavel Pavlov</td>\n",
       "    </tr>\n",
       "    <tr>\n",
       "      <th>44689</th>\n",
       "      <td>Aleksandr Chabrov</td>\n",
       "    </tr>\n",
       "    <tr>\n",
       "      <th>44689</th>\n",
       "      <td>Vera Orlova</td>\n",
       "    </tr>\n",
       "  </tbody>\n",
       "</table>\n",
       "<p>557703 rows × 1 columns</p>\n",
       "</div>"
      ],
      "text/plain": [
       "                       0\n",
       "0              Tom Hanks\n",
       "0              Tim Allen\n",
       "0            Don Rickles\n",
       "0             Jim Varney\n",
       "0          Wallace Shawn\n",
       "...                  ...\n",
       "44689   Iwan Mosschuchin\n",
       "44689  Nathalie Lissenko\n",
       "44689       Pavel Pavlov\n",
       "44689  Aleksandr Chabrov\n",
       "44689        Vera Orlova\n",
       "\n",
       "[557703 rows x 1 columns]"
      ]
     },
     "execution_count": 19,
     "metadata": {},
     "output_type": "execute_result"
    }
   ],
   "source": [
    "act = act.stack().reset_index(level=1,drop=True).to_frame()\n",
    "act"
   ]
  },
  {
   "cell_type": "code",
   "execution_count": 20,
   "id": "e6e988f2",
   "metadata": {},
   "outputs": [
    {
     "data": {
      "text/html": [
       "<div>\n",
       "<style scoped>\n",
       "    .dataframe tbody tr th:only-of-type {\n",
       "        vertical-align: middle;\n",
       "    }\n",
       "\n",
       "    .dataframe tbody tr th {\n",
       "        vertical-align: top;\n",
       "    }\n",
       "\n",
       "    .dataframe thead th {\n",
       "        text-align: right;\n",
       "    }\n",
       "</style>\n",
       "<table border=\"1\" class=\"dataframe\">\n",
       "  <thead>\n",
       "    <tr style=\"text-align: right;\">\n",
       "      <th></th>\n",
       "      <th>0</th>\n",
       "    </tr>\n",
       "  </thead>\n",
       "  <tbody>\n",
       "    <tr>\n",
       "      <th>0</th>\n",
       "      <td>Tom Hanks</td>\n",
       "    </tr>\n",
       "    <tr>\n",
       "      <th>0</th>\n",
       "      <td>Tim Allen</td>\n",
       "    </tr>\n",
       "    <tr>\n",
       "      <th>0</th>\n",
       "      <td>Don Rickles</td>\n",
       "    </tr>\n",
       "    <tr>\n",
       "      <th>0</th>\n",
       "      <td>Jim Varney</td>\n",
       "    </tr>\n",
       "    <tr>\n",
       "      <th>0</th>\n",
       "      <td>Wallace Shawn</td>\n",
       "    </tr>\n",
       "    <tr>\n",
       "      <th>...</th>\n",
       "      <td>...</td>\n",
       "    </tr>\n",
       "    <tr>\n",
       "      <th>44689</th>\n",
       "      <td>Iwan Mosschuchin</td>\n",
       "    </tr>\n",
       "    <tr>\n",
       "      <th>44689</th>\n",
       "      <td>Nathalie Lissenko</td>\n",
       "    </tr>\n",
       "    <tr>\n",
       "      <th>44689</th>\n",
       "      <td>Pavel Pavlov</td>\n",
       "    </tr>\n",
       "    <tr>\n",
       "      <th>44689</th>\n",
       "      <td>Aleksandr Chabrov</td>\n",
       "    </tr>\n",
       "    <tr>\n",
       "      <th>44689</th>\n",
       "      <td>Vera Orlova</td>\n",
       "    </tr>\n",
       "  </tbody>\n",
       "</table>\n",
       "<p>557703 rows × 1 columns</p>\n",
       "</div>"
      ],
      "text/plain": [
       "                       0\n",
       "0              Tom Hanks\n",
       "0              Tim Allen\n",
       "0            Don Rickles\n",
       "0             Jim Varney\n",
       "0          Wallace Shawn\n",
       "...                  ...\n",
       "44689   Iwan Mosschuchin\n",
       "44689  Nathalie Lissenko\n",
       "44689       Pavel Pavlov\n",
       "44689  Aleksandr Chabrov\n",
       "44689        Vera Orlova\n",
       "\n",
       "[557703 rows x 1 columns]"
      ]
     },
     "execution_count": 20,
     "metadata": {},
     "output_type": "execute_result"
    }
   ],
   "source": [
    "act"
   ]
  },
  {
   "cell_type": "code",
   "execution_count": 21,
   "id": "fdda12de",
   "metadata": {},
   "outputs": [
    {
     "data": {
      "text/html": [
       "<div>\n",
       "<style scoped>\n",
       "    .dataframe tbody tr th:only-of-type {\n",
       "        vertical-align: middle;\n",
       "    }\n",
       "\n",
       "    .dataframe tbody tr th {\n",
       "        vertical-align: top;\n",
       "    }\n",
       "\n",
       "    .dataframe thead th {\n",
       "        text-align: right;\n",
       "    }\n",
       "</style>\n",
       "<table border=\"1\" class=\"dataframe\">\n",
       "  <thead>\n",
       "    <tr style=\"text-align: right;\">\n",
       "      <th></th>\n",
       "      <th>Actor</th>\n",
       "    </tr>\n",
       "  </thead>\n",
       "  <tbody>\n",
       "    <tr>\n",
       "      <th>0</th>\n",
       "      <td>Tom Hanks</td>\n",
       "    </tr>\n",
       "    <tr>\n",
       "      <th>0</th>\n",
       "      <td>Tim Allen</td>\n",
       "    </tr>\n",
       "    <tr>\n",
       "      <th>0</th>\n",
       "      <td>Don Rickles</td>\n",
       "    </tr>\n",
       "    <tr>\n",
       "      <th>0</th>\n",
       "      <td>Jim Varney</td>\n",
       "    </tr>\n",
       "    <tr>\n",
       "      <th>0</th>\n",
       "      <td>Wallace Shawn</td>\n",
       "    </tr>\n",
       "    <tr>\n",
       "      <th>...</th>\n",
       "      <td>...</td>\n",
       "    </tr>\n",
       "    <tr>\n",
       "      <th>44689</th>\n",
       "      <td>Iwan Mosschuchin</td>\n",
       "    </tr>\n",
       "    <tr>\n",
       "      <th>44689</th>\n",
       "      <td>Nathalie Lissenko</td>\n",
       "    </tr>\n",
       "    <tr>\n",
       "      <th>44689</th>\n",
       "      <td>Pavel Pavlov</td>\n",
       "    </tr>\n",
       "    <tr>\n",
       "      <th>44689</th>\n",
       "      <td>Aleksandr Chabrov</td>\n",
       "    </tr>\n",
       "    <tr>\n",
       "      <th>44689</th>\n",
       "      <td>Vera Orlova</td>\n",
       "    </tr>\n",
       "  </tbody>\n",
       "</table>\n",
       "<p>557703 rows × 1 columns</p>\n",
       "</div>"
      ],
      "text/plain": [
       "                   Actor\n",
       "0              Tom Hanks\n",
       "0              Tim Allen\n",
       "0            Don Rickles\n",
       "0             Jim Varney\n",
       "0          Wallace Shawn\n",
       "...                  ...\n",
       "44689   Iwan Mosschuchin\n",
       "44689  Nathalie Lissenko\n",
       "44689       Pavel Pavlov\n",
       "44689  Aleksandr Chabrov\n",
       "44689        Vera Orlova\n",
       "\n",
       "[557703 rows x 1 columns]"
      ]
     },
     "execution_count": 21,
     "metadata": {},
     "output_type": "execute_result"
    }
   ],
   "source": [
    "act.columns = [\"Actor\"]\n",
    "act"
   ]
  },
  {
   "cell_type": "code",
   "execution_count": 22,
   "id": "c1429f6a",
   "metadata": {},
   "outputs": [
    {
     "data": {
      "text/html": [
       "<div>\n",
       "<style scoped>\n",
       "    .dataframe tbody tr th:only-of-type {\n",
       "        vertical-align: middle;\n",
       "    }\n",
       "\n",
       "    .dataframe tbody tr th {\n",
       "        vertical-align: top;\n",
       "    }\n",
       "\n",
       "    .dataframe thead th {\n",
       "        text-align: right;\n",
       "    }\n",
       "</style>\n",
       "<table border=\"1\" class=\"dataframe\">\n",
       "  <thead>\n",
       "    <tr style=\"text-align: right;\">\n",
       "      <th></th>\n",
       "      <th>Actor</th>\n",
       "      <th>title</th>\n",
       "      <th>revenue_musd</th>\n",
       "      <th>vote_average</th>\n",
       "      <th>popularity</th>\n",
       "    </tr>\n",
       "  </thead>\n",
       "  <tbody>\n",
       "    <tr>\n",
       "      <th>0</th>\n",
       "      <td>Tom Hanks</td>\n",
       "      <td>NaN</td>\n",
       "      <td>NaN</td>\n",
       "      <td>NaN</td>\n",
       "      <td>NaN</td>\n",
       "    </tr>\n",
       "    <tr>\n",
       "      <th>0</th>\n",
       "      <td>Tim Allen</td>\n",
       "      <td>NaN</td>\n",
       "      <td>NaN</td>\n",
       "      <td>NaN</td>\n",
       "      <td>NaN</td>\n",
       "    </tr>\n",
       "    <tr>\n",
       "      <th>0</th>\n",
       "      <td>Don Rickles</td>\n",
       "      <td>NaN</td>\n",
       "      <td>NaN</td>\n",
       "      <td>NaN</td>\n",
       "      <td>NaN</td>\n",
       "    </tr>\n",
       "    <tr>\n",
       "      <th>0</th>\n",
       "      <td>Jim Varney</td>\n",
       "      <td>NaN</td>\n",
       "      <td>NaN</td>\n",
       "      <td>NaN</td>\n",
       "      <td>NaN</td>\n",
       "    </tr>\n",
       "    <tr>\n",
       "      <th>0</th>\n",
       "      <td>Wallace Shawn</td>\n",
       "      <td>NaN</td>\n",
       "      <td>NaN</td>\n",
       "      <td>NaN</td>\n",
       "      <td>NaN</td>\n",
       "    </tr>\n",
       "    <tr>\n",
       "      <th>...</th>\n",
       "      <td>...</td>\n",
       "      <td>...</td>\n",
       "      <td>...</td>\n",
       "      <td>...</td>\n",
       "      <td>...</td>\n",
       "    </tr>\n",
       "    <tr>\n",
       "      <th>44689</th>\n",
       "      <td>Iwan Mosschuchin</td>\n",
       "      <td>NaN</td>\n",
       "      <td>NaN</td>\n",
       "      <td>NaN</td>\n",
       "      <td>NaN</td>\n",
       "    </tr>\n",
       "    <tr>\n",
       "      <th>44689</th>\n",
       "      <td>Nathalie Lissenko</td>\n",
       "      <td>NaN</td>\n",
       "      <td>NaN</td>\n",
       "      <td>NaN</td>\n",
       "      <td>NaN</td>\n",
       "    </tr>\n",
       "    <tr>\n",
       "      <th>44689</th>\n",
       "      <td>Pavel Pavlov</td>\n",
       "      <td>NaN</td>\n",
       "      <td>NaN</td>\n",
       "      <td>NaN</td>\n",
       "      <td>NaN</td>\n",
       "    </tr>\n",
       "    <tr>\n",
       "      <th>44689</th>\n",
       "      <td>Aleksandr Chabrov</td>\n",
       "      <td>NaN</td>\n",
       "      <td>NaN</td>\n",
       "      <td>NaN</td>\n",
       "      <td>NaN</td>\n",
       "    </tr>\n",
       "    <tr>\n",
       "      <th>44689</th>\n",
       "      <td>Vera Orlova</td>\n",
       "      <td>NaN</td>\n",
       "      <td>NaN</td>\n",
       "      <td>NaN</td>\n",
       "      <td>NaN</td>\n",
       "    </tr>\n",
       "  </tbody>\n",
       "</table>\n",
       "<p>557703 rows × 5 columns</p>\n",
       "</div>"
      ],
      "text/plain": [
       "                   Actor title  revenue_musd  vote_average  popularity\n",
       "0              Tom Hanks   NaN           NaN           NaN         NaN\n",
       "0              Tim Allen   NaN           NaN           NaN         NaN\n",
       "0            Don Rickles   NaN           NaN           NaN         NaN\n",
       "0             Jim Varney   NaN           NaN           NaN         NaN\n",
       "0          Wallace Shawn   NaN           NaN           NaN         NaN\n",
       "...                  ...   ...           ...           ...         ...\n",
       "44689   Iwan Mosschuchin   NaN           NaN           NaN         NaN\n",
       "44689  Nathalie Lissenko   NaN           NaN           NaN         NaN\n",
       "44689       Pavel Pavlov   NaN           NaN           NaN         NaN\n",
       "44689  Aleksandr Chabrov   NaN           NaN           NaN         NaN\n",
       "44689        Vera Orlova   NaN           NaN           NaN         NaN\n",
       "\n",
       "[557703 rows x 5 columns]"
      ]
     },
     "execution_count": 22,
     "metadata": {},
     "output_type": "execute_result"
    }
   ],
   "source": [
    "act = act.merge(df[['title','revenue_musd','vote_average','popularity']],\n",
    "                how ='left',left_index=True,right_index=True)\n",
    "act"
   ]
  },
  {
   "cell_type": "code",
   "execution_count": 82,
   "id": "a7e19533",
   "metadata": {},
   "outputs": [
    {
     "data": {
      "text/plain": [
       "0        False\n",
       "0        False\n",
       "0        False\n",
       "0        False\n",
       "0        False\n",
       "         ...  \n",
       "44689    False\n",
       "44689    False\n",
       "44689    False\n",
       "44689    False\n",
       "44689    False\n",
       "Name: revenue_musd, Length: 557703, dtype: bool"
      ]
     },
     "execution_count": 82,
     "metadata": {},
     "output_type": "execute_result"
    }
   ],
   "source": [
    "act.revenue_musd.notna()"
   ]
  },
  {
   "cell_type": "code",
   "execution_count": 83,
   "id": "e1f48b44",
   "metadata": {},
   "outputs": [
    {
     "data": {
      "text/html": [
       "<div>\n",
       "<style scoped>\n",
       "    .dataframe tbody tr th:only-of-type {\n",
       "        vertical-align: middle;\n",
       "    }\n",
       "\n",
       "    .dataframe tbody tr th {\n",
       "        vertical-align: top;\n",
       "    }\n",
       "\n",
       "    .dataframe thead th {\n",
       "        text-align: right;\n",
       "    }\n",
       "</style>\n",
       "<table border=\"1\" class=\"dataframe\">\n",
       "  <thead>\n",
       "    <tr style=\"text-align: right;\">\n",
       "      <th></th>\n",
       "      <th>Actor</th>\n",
       "      <th>title</th>\n",
       "      <th>revenue_musd</th>\n",
       "      <th>vote_average</th>\n",
       "      <th>popularity</th>\n",
       "    </tr>\n",
       "  </thead>\n",
       "  <tbody>\n",
       "    <tr>\n",
       "      <th>0</th>\n",
       "      <td>Tom Hanks</td>\n",
       "      <td>NaN</td>\n",
       "      <td>NaN</td>\n",
       "      <td>NaN</td>\n",
       "      <td>NaN</td>\n",
       "    </tr>\n",
       "    <tr>\n",
       "      <th>0</th>\n",
       "      <td>Tim Allen</td>\n",
       "      <td>NaN</td>\n",
       "      <td>NaN</td>\n",
       "      <td>NaN</td>\n",
       "      <td>NaN</td>\n",
       "    </tr>\n",
       "    <tr>\n",
       "      <th>0</th>\n",
       "      <td>Don Rickles</td>\n",
       "      <td>NaN</td>\n",
       "      <td>NaN</td>\n",
       "      <td>NaN</td>\n",
       "      <td>NaN</td>\n",
       "    </tr>\n",
       "    <tr>\n",
       "      <th>0</th>\n",
       "      <td>Jim Varney</td>\n",
       "      <td>NaN</td>\n",
       "      <td>NaN</td>\n",
       "      <td>NaN</td>\n",
       "      <td>NaN</td>\n",
       "    </tr>\n",
       "    <tr>\n",
       "      <th>0</th>\n",
       "      <td>Wallace Shawn</td>\n",
       "      <td>NaN</td>\n",
       "      <td>NaN</td>\n",
       "      <td>NaN</td>\n",
       "      <td>NaN</td>\n",
       "    </tr>\n",
       "    <tr>\n",
       "      <th>...</th>\n",
       "      <td>...</td>\n",
       "      <td>...</td>\n",
       "      <td>...</td>\n",
       "      <td>...</td>\n",
       "      <td>...</td>\n",
       "    </tr>\n",
       "    <tr>\n",
       "      <th>5</th>\n",
       "      <td>Rick Marzan</td>\n",
       "      <td>Four Rooms</td>\n",
       "      <td>4.300000</td>\n",
       "      <td>6.500000</td>\n",
       "      <td>9.026586</td>\n",
       "    </tr>\n",
       "    <tr>\n",
       "      <th>5</th>\n",
       "      <td>Terry Miller</td>\n",
       "      <td>Four Rooms</td>\n",
       "      <td>4.300000</td>\n",
       "      <td>6.500000</td>\n",
       "      <td>9.026586</td>\n",
       "    </tr>\n",
       "    <tr>\n",
       "      <th>5</th>\n",
       "      <td>Daniel O'Haco</td>\n",
       "      <td>Four Rooms</td>\n",
       "      <td>4.300000</td>\n",
       "      <td>6.500000</td>\n",
       "      <td>9.026586</td>\n",
       "    </tr>\n",
       "    <tr>\n",
       "      <th>5</th>\n",
       "      <td>Kai Soremekun</td>\n",
       "      <td>Four Rooms</td>\n",
       "      <td>4.300000</td>\n",
       "      <td>6.500000</td>\n",
       "      <td>9.026586</td>\n",
       "    </tr>\n",
       "    <tr>\n",
       "      <th>5</th>\n",
       "      <td>Peter Blackwell</td>\n",
       "      <td>Four Rooms</td>\n",
       "      <td>4.300000</td>\n",
       "      <td>6.500000</td>\n",
       "      <td>9.026586</td>\n",
       "    </tr>\n",
       "  </tbody>\n",
       "</table>\n",
       "<p>125 rows × 5 columns</p>\n",
       "</div>"
      ],
      "text/plain": [
       "              Actor       title  revenue_musd  vote_average  popularity\n",
       "0         Tom Hanks         NaN           NaN           NaN         NaN\n",
       "0         Tim Allen         NaN           NaN           NaN         NaN\n",
       "0       Don Rickles         NaN           NaN           NaN         NaN\n",
       "0        Jim Varney         NaN           NaN           NaN         NaN\n",
       "0     Wallace Shawn         NaN           NaN           NaN         NaN\n",
       "..              ...         ...           ...           ...         ...\n",
       "5       Rick Marzan  Four Rooms      4.300000      6.500000    9.026586\n",
       "5      Terry Miller  Four Rooms      4.300000      6.500000    9.026586\n",
       "5     Daniel O'Haco  Four Rooms      4.300000      6.500000    9.026586\n",
       "5     Kai Soremekun  Four Rooms      4.300000      6.500000    9.026586\n",
       "5   Peter Blackwell  Four Rooms      4.300000      6.500000    9.026586\n",
       "\n",
       "[125 rows x 5 columns]"
      ]
     },
     "execution_count": 83,
     "metadata": {},
     "output_type": "execute_result"
    }
   ],
   "source": [
    "act"
   ]
  },
  {
   "cell_type": "code",
   "execution_count": 24,
   "id": "264a77e9",
   "metadata": {},
   "outputs": [
    {
     "data": {
      "text/plain": [
       "0                Tom Hanks\n",
       "0                Tim Allen\n",
       "0              Don Rickles\n",
       "0               Jim Varney\n",
       "0            Wallace Shawn\n",
       "               ...        \n",
       "44689     Iwan Mosschuchin\n",
       "44689    Nathalie Lissenko\n",
       "44689         Pavel Pavlov\n",
       "44689    Aleksandr Chabrov\n",
       "44689          Vera Orlova\n",
       "Name: Actor, Length: 557703, dtype: object"
      ]
     },
     "execution_count": 24,
     "metadata": {},
     "output_type": "execute_result"
    }
   ],
   "source": [
    "act.Actor"
   ]
  },
  {
   "cell_type": "code",
   "execution_count": 25,
   "id": "150666c7",
   "metadata": {},
   "outputs": [
    {
     "data": {
      "text/plain": [
       "201501"
      ]
     },
     "execution_count": 25,
     "metadata": {},
     "output_type": "execute_result"
    }
   ],
   "source": [
    "act.Actor.nunique()"
   ]
  },
  {
   "cell_type": "code",
   "execution_count": 69,
   "id": "95879ea9",
   "metadata": {},
   "outputs": [
    {
     "data": {
      "text/plain": [
       "<bound method Series.unique of 0                Tom Hanks\n",
       "0                Tim Allen\n",
       "0              Don Rickles\n",
       "0               Jim Varney\n",
       "0            Wallace Shawn\n",
       "               ...        \n",
       "44689     Iwan Mosschuchin\n",
       "44689    Nathalie Lissenko\n",
       "44689         Pavel Pavlov\n",
       "44689    Aleksandr Chabrov\n",
       "44689          Vera Orlova\n",
       "Name: Actor, Length: 557703, dtype: object>"
      ]
     },
     "execution_count": 69,
     "metadata": {},
     "output_type": "execute_result"
    }
   ],
   "source": [
    "act.Actor.unique"
   ]
  },
  {
   "cell_type": "code",
   "execution_count": 72,
   "id": "691d3ea9",
   "metadata": {},
   "outputs": [
    {
     "data": {
      "text/plain": [
       "Bess Flowers          240\n",
       "Christopher Lee       148\n",
       "John Wayne            125\n",
       "Samuel L. Jackson     122\n",
       "Michael Caine         110\n",
       "John Carradine        109\n",
       "Gérard Depardieu      109\n",
       "Jackie Chan           108\n",
       "Donald Sutherland     108\n",
       "Frank Welker          107\n",
       "Robert De Niro        104\n",
       "Danny Trejo           101\n",
       "Steve Buscemi         101\n",
       "Irving Bacon           98\n",
       "John Goodman           97\n",
       "Christopher Walken     96\n",
       "Danny Glover           95\n",
       "John Hurt              93\n",
       "Dennis Hopper          92\n",
       "Susan Sarandon         92\n",
       "Name: Actor, dtype: int64"
      ]
     },
     "execution_count": 72,
     "metadata": {},
     "output_type": "execute_result"
    }
   ],
   "source": [
    "act.Actor.value_counts().head(20)"
   ]
  },
  {
   "cell_type": "code",
   "execution_count": 70,
   "id": "fb378c5f",
   "metadata": {},
   "outputs": [
    {
     "data": {
      "image/png": "[encoded data removed]",
      "text/plain": [
       "<Figure size 864x576 with 1 Axes>"
      ]
     },
     "metadata": {
      "needs_background": "light"
     },
     "output_type": "display_data"
    }
   ],
   "source": [
    "import matplotlib.pyplot as plt\n",
    "plt.figure(figsize=(12,8))\n",
    "act.Actor.value_counts().head(20).plot(kind = 'bar',fontsize = 10,color='g')\n",
    "plt.title('Most acted actor')\n",
    "plt.ylabel('number of movies')\n",
    "plt.show()"
   ]
  },
  {
   "cell_type": "code",
   "execution_count": 86,
   "id": "c7fd2365",
   "metadata": {},
   "outputs": [
    {
     "data": {
      "text/html": [
       "<div>\n",
       "<style scoped>\n",
       "    .dataframe tbody tr th:only-of-type {\n",
       "        vertical-align: middle;\n",
       "    }\n",
       "\n",
       "    .dataframe tbody tr th {\n",
       "        vertical-align: top;\n",
       "    }\n",
       "\n",
       "    .dataframe thead th {\n",
       "        text-align: right;\n",
       "    }\n",
       "</style>\n",
       "<table border=\"1\" class=\"dataframe\">\n",
       "  <thead>\n",
       "    <tr style=\"text-align: right;\">\n",
       "      <th></th>\n",
       "      <th>Total_Revenue</th>\n",
       "      <th>Mean_Revenue</th>\n",
       "      <th>Mean_Rating</th>\n",
       "      <th>Mean_Pop</th>\n",
       "      <th>Total_Movies</th>\n",
       "    </tr>\n",
       "    <tr>\n",
       "      <th>Actor</th>\n",
       "      <th></th>\n",
       "      <th></th>\n",
       "      <th></th>\n",
       "      <th></th>\n",
       "      <th></th>\n",
       "    </tr>\n",
       "  </thead>\n",
       "  <tbody>\n",
       "    <tr>\n",
       "      <th>\\tCheung Chi-Sing</th>\n",
       "      <td>0.000000</td>\n",
       "      <td>NaN</td>\n",
       "      <td>7.100000</td>\n",
       "      <td>0.408159</td>\n",
       "      <td>1</td>\n",
       "    </tr>\n",
       "    <tr>\n",
       "      <th>\\tDouglas Hegdahl</th>\n",
       "      <td>53.187659</td>\n",
       "      <td>53.187659</td>\n",
       "      <td>6.700000</td>\n",
       "      <td>6.424399</td>\n",
       "      <td>1</td>\n",
       "    </tr>\n",
       "    <tr>\n",
       "      <th>\\tRobert Osth</th>\n",
       "      <td>0.000000</td>\n",
       "      <td>NaN</td>\n",
       "      <td>NaN</td>\n",
       "      <td>NaN</td>\n",
       "      <td>1</td>\n",
       "    </tr>\n",
       "    <tr>\n",
       "      <th>\\tYip Chun</th>\n",
       "      <td>0.000000</td>\n",
       "      <td>NaN</td>\n",
       "      <td>4.950000</td>\n",
       "      <td>5.405810</td>\n",
       "      <td>2</td>\n",
       "    </tr>\n",
       "    <tr>\n",
       "      <th>Jorge de los Reyes</th>\n",
       "      <td>0.000000</td>\n",
       "      <td>NaN</td>\n",
       "      <td>NaN</td>\n",
       "      <td>NaN</td>\n",
       "      <td>1</td>\n",
       "    </tr>\n",
       "    <tr>\n",
       "      <th>...</th>\n",
       "      <td>...</td>\n",
       "      <td>...</td>\n",
       "      <td>...</td>\n",
       "      <td>...</td>\n",
       "      <td>...</td>\n",
       "    </tr>\n",
       "    <tr>\n",
       "      <th>长泽雅美</th>\n",
       "      <td>7.537453</td>\n",
       "      <td>7.537453</td>\n",
       "      <td>6.700000</td>\n",
       "      <td>4.027565</td>\n",
       "      <td>11</td>\n",
       "    </tr>\n",
       "    <tr>\n",
       "      <th>陳美貞</th>\n",
       "      <td>0.000000</td>\n",
       "      <td>NaN</td>\n",
       "      <td>6.100000</td>\n",
       "      <td>1.077964</td>\n",
       "      <td>1</td>\n",
       "    </tr>\n",
       "    <tr>\n",
       "      <th>高桥一生</th>\n",
       "      <td>271.638445</td>\n",
       "      <td>135.819223</td>\n",
       "      <td>5.750000</td>\n",
       "      <td>10.663529</td>\n",
       "      <td>8</td>\n",
       "    </tr>\n",
       "    <tr>\n",
       "      <th>강계열</th>\n",
       "      <td>0.000000</td>\n",
       "      <td>NaN</td>\n",
       "      <td>6.800000</td>\n",
       "      <td>0.257249</td>\n",
       "      <td>1</td>\n",
       "    </tr>\n",
       "    <tr>\n",
       "      <th>조병만</th>\n",
       "      <td>0.000000</td>\n",
       "      <td>NaN</td>\n",
       "      <td>6.800000</td>\n",
       "      <td>0.257249</td>\n",
       "      <td>1</td>\n",
       "    </tr>\n",
       "  </tbody>\n",
       "</table>\n",
       "<p>201501 rows × 5 columns</p>\n",
       "</div>"
      ],
      "text/plain": [
       "                       Total_Revenue  Mean_Revenue  Mean_Rating  Mean_Pop  \\\n",
       "Actor                                                                       \n",
       "\\tCheung Chi-Sing           0.000000           NaN     7.100000  0.408159   \n",
       "\\tDouglas Hegdahl          53.187659     53.187659     6.700000  6.424399   \n",
       "\\tRobert Osth               0.000000           NaN          NaN       NaN   \n",
       "\\tYip Chun                  0.000000           NaN     4.950000  5.405810   \n",
       "  Jorge de los Reyes        0.000000           NaN          NaN       NaN   \n",
       "...                              ...           ...          ...       ...   \n",
       "长泽雅美                        7.537453      7.537453     6.700000  4.027565   \n",
       "陳美貞                         0.000000           NaN     6.100000  1.077964   \n",
       "高桥一生                      271.638445    135.819223     5.750000 10.663529   \n",
       "강계열                         0.000000           NaN     6.800000  0.257249   \n",
       "조병만                         0.000000           NaN     6.800000  0.257249   \n",
       "\n",
       "                       Total_Movies  \n",
       "Actor                                \n",
       "\\tCheung Chi-Sing                 1  \n",
       "\\tDouglas Hegdahl                 1  \n",
       "\\tRobert Osth                     1  \n",
       "\\tYip Chun                        2  \n",
       "  Jorge de los Reyes              1  \n",
       "...                             ...  \n",
       "长泽雅美                             11  \n",
       "陳美貞                               1  \n",
       "高桥一生                              8  \n",
       "강계열                               1  \n",
       "조병만                               1  \n",
       "\n",
       "[201501 rows x 5 columns]"
      ]
     },
     "execution_count": 86,
     "metadata": {},
     "output_type": "execute_result"
    }
   ],
   "source": [
    "agg = act.groupby(\"Actor\").agg(Total_Revenue = (\"revenue_musd\", \"sum\"), \n",
    "                               Mean_Revenue = (\"revenue_musd\", \"mean\"),\n",
    "                               Mean_Rating = (\"vote_average\", \"mean\"), \n",
    "                               Mean_Pop = (\"popularity\", \"mean\"), \n",
    "                               Total_Movies = (\"Actor\", \"count\"))\n",
    "agg"
   ]
  },
  {
   "cell_type": "code",
   "execution_count": 78,
   "id": "86ffafc1",
   "metadata": {},
   "outputs": [
    {
     "data": {
      "text/html": [
       "<div>\n",
       "<style scoped>\n",
       "    .dataframe tbody tr th:only-of-type {\n",
       "        vertical-align: middle;\n",
       "    }\n",
       "\n",
       "    .dataframe tbody tr th {\n",
       "        vertical-align: top;\n",
       "    }\n",
       "\n",
       "    .dataframe thead th {\n",
       "        text-align: right;\n",
       "    }\n",
       "</style>\n",
       "<table border=\"1\" class=\"dataframe\">\n",
       "  <thead>\n",
       "    <tr style=\"text-align: right;\">\n",
       "      <th></th>\n",
       "      <th>Total_Revenue</th>\n",
       "      <th>Mean_Revenue</th>\n",
       "      <th>Mean_Rating</th>\n",
       "      <th>Mean_Pop</th>\n",
       "      <th>Total_Movies</th>\n",
       "    </tr>\n",
       "    <tr>\n",
       "      <th>Actor</th>\n",
       "      <th></th>\n",
       "      <th></th>\n",
       "      <th></th>\n",
       "      <th></th>\n",
       "      <th></th>\n",
       "    </tr>\n",
       "  </thead>\n",
       "  <tbody>\n",
       "    <tr>\n",
       "      <th>Bess Flowers</th>\n",
       "      <td>3197.326025</td>\n",
       "      <td>99.916438</td>\n",
       "      <td>6.251064</td>\n",
       "      <td>5.234642</td>\n",
       "      <td>240</td>\n",
       "    </tr>\n",
       "    <tr>\n",
       "      <th>Christopher Lee</th>\n",
       "      <td>516.857895</td>\n",
       "      <td>57.428655</td>\n",
       "      <td>6.213462</td>\n",
       "      <td>3.579433</td>\n",
       "      <td>148</td>\n",
       "    </tr>\n",
       "    <tr>\n",
       "      <th>John Wayne</th>\n",
       "      <td>1161.604168</td>\n",
       "      <td>68.329657</td>\n",
       "      <td>5.964000</td>\n",
       "      <td>5.071844</td>\n",
       "      <td>125</td>\n",
       "    </tr>\n",
       "    <tr>\n",
       "      <th>Samuel L. Jackson</th>\n",
       "      <td>1506.409804</td>\n",
       "      <td>71.733800</td>\n",
       "      <td>6.306000</td>\n",
       "      <td>5.934719</td>\n",
       "      <td>122</td>\n",
       "    </tr>\n",
       "    <tr>\n",
       "      <th>Michael Caine</th>\n",
       "      <td>417.753861</td>\n",
       "      <td>46.417096</td>\n",
       "      <td>6.147059</td>\n",
       "      <td>4.768660</td>\n",
       "      <td>110</td>\n",
       "    </tr>\n",
       "    <tr>\n",
       "      <th>Gérard Depardieu</th>\n",
       "      <td>730.476430</td>\n",
       "      <td>73.047643</td>\n",
       "      <td>6.220690</td>\n",
       "      <td>4.305000</td>\n",
       "      <td>109</td>\n",
       "    </tr>\n",
       "    <tr>\n",
       "      <th>John Carradine</th>\n",
       "      <td>1215.666120</td>\n",
       "      <td>86.833294</td>\n",
       "      <td>5.963158</td>\n",
       "      <td>5.328519</td>\n",
       "      <td>109</td>\n",
       "    </tr>\n",
       "    <tr>\n",
       "      <th>Donald Sutherland</th>\n",
       "      <td>481.901678</td>\n",
       "      <td>30.118855</td>\n",
       "      <td>6.471111</td>\n",
       "      <td>5.263731</td>\n",
       "      <td>108</td>\n",
       "    </tr>\n",
       "    <tr>\n",
       "      <th>Jackie Chan</th>\n",
       "      <td>1301.406032</td>\n",
       "      <td>65.070302</td>\n",
       "      <td>6.136735</td>\n",
       "      <td>4.968922</td>\n",
       "      <td>108</td>\n",
       "    </tr>\n",
       "    <tr>\n",
       "      <th>Frank Welker</th>\n",
       "      <td>1616.488302</td>\n",
       "      <td>107.765887</td>\n",
       "      <td>6.321739</td>\n",
       "      <td>5.197806</td>\n",
       "      <td>107</td>\n",
       "    </tr>\n",
       "  </tbody>\n",
       "</table>\n",
       "</div>"
      ],
      "text/plain": [
       "                   Total_Revenue  Mean_Revenue  Mean_Rating  Mean_Pop  \\\n",
       "Actor                                                                   \n",
       "Bess Flowers         3197.326025     99.916438     6.251064  5.234642   \n",
       "Christopher Lee       516.857895     57.428655     6.213462  3.579433   \n",
       "John Wayne           1161.604168     68.329657     5.964000  5.071844   \n",
       "Samuel L. Jackson    1506.409804     71.733800     6.306000  5.934719   \n",
       "Michael Caine         417.753861     46.417096     6.147059  4.768660   \n",
       "Gérard Depardieu      730.476430     73.047643     6.220690  4.305000   \n",
       "John Carradine       1215.666120     86.833294     5.963158  5.328519   \n",
       "Donald Sutherland     481.901678     30.118855     6.471111  5.263731   \n",
       "Jackie Chan          1301.406032     65.070302     6.136735  4.968922   \n",
       "Frank Welker         1616.488302    107.765887     6.321739  5.197806   \n",
       "\n",
       "                   Total_Movies  \n",
       "Actor                            \n",
       "Bess Flowers                240  \n",
       "Christopher Lee             148  \n",
       "John Wayne                  125  \n",
       "Samuel L. Jackson           122  \n",
       "Michael Caine               110  \n",
       "Gérard Depardieu            109  \n",
       "John Carradine              109  \n",
       "Donald Sutherland           108  \n",
       "Jackie Chan                 108  \n",
       "Frank Welker                107  "
      ]
     },
     "execution_count": 78,
     "metadata": {},
     "output_type": "execute_result"
    }
   ],
   "source": [
    "agg.nlargest(10, \"Total_Movies\")"
   ]
  },
  {
   "cell_type": "code",
   "execution_count": 77,
   "id": "ca330a74",
   "metadata": {},
   "outputs": [
    {
     "data": {
      "text/html": [
       "<div>\n",
       "<style scoped>\n",
       "    .dataframe tbody tr th:only-of-type {\n",
       "        vertical-align: middle;\n",
       "    }\n",
       "\n",
       "    .dataframe tbody tr th {\n",
       "        vertical-align: top;\n",
       "    }\n",
       "\n",
       "    .dataframe thead th {\n",
       "        text-align: right;\n",
       "    }\n",
       "</style>\n",
       "<table border=\"1\" class=\"dataframe\">\n",
       "  <thead>\n",
       "    <tr style=\"text-align: right;\">\n",
       "      <th></th>\n",
       "      <th>Total_Revenue</th>\n",
       "      <th>Mean_Revenue</th>\n",
       "      <th>Mean_Rating</th>\n",
       "      <th>Mean_Pop</th>\n",
       "      <th>Total_Movies</th>\n",
       "    </tr>\n",
       "    <tr>\n",
       "      <th>Actor</th>\n",
       "      <th></th>\n",
       "      <th></th>\n",
       "      <th></th>\n",
       "      <th></th>\n",
       "      <th></th>\n",
       "    </tr>\n",
       "  </thead>\n",
       "  <tbody>\n",
       "    <tr>\n",
       "      <th>Andy García</th>\n",
       "      <td>3781.478950</td>\n",
       "      <td>290.882996</td>\n",
       "      <td>6.771429</td>\n",
       "      <td>11.855194</td>\n",
       "      <td>57</td>\n",
       "    </tr>\n",
       "    <tr>\n",
       "      <th>Harvey Keitel</th>\n",
       "      <td>3781.000229</td>\n",
       "      <td>189.050011</td>\n",
       "      <td>6.333333</td>\n",
       "      <td>6.586613</td>\n",
       "      <td>90</td>\n",
       "    </tr>\n",
       "    <tr>\n",
       "      <th>Whoopi Goldberg</th>\n",
       "      <td>3435.326459</td>\n",
       "      <td>149.362020</td>\n",
       "      <td>6.441667</td>\n",
       "      <td>7.107092</td>\n",
       "      <td>85</td>\n",
       "    </tr>\n",
       "    <tr>\n",
       "      <th>Deborah Kara Unger</th>\n",
       "      <td>3391.839152</td>\n",
       "      <td>339.183915</td>\n",
       "      <td>6.225000</td>\n",
       "      <td>18.277166</td>\n",
       "      <td>33</td>\n",
       "    </tr>\n",
       "    <tr>\n",
       "      <th>Kevin Durand</th>\n",
       "      <td>3322.046986</td>\n",
       "      <td>474.578141</td>\n",
       "      <td>6.137500</td>\n",
       "      <td>16.098415</td>\n",
       "      <td>26</td>\n",
       "    </tr>\n",
       "    <tr>\n",
       "      <th>Forest Whitaker</th>\n",
       "      <td>3291.675621</td>\n",
       "      <td>299.243238</td>\n",
       "      <td>6.238462</td>\n",
       "      <td>12.723743</td>\n",
       "      <td>77</td>\n",
       "    </tr>\n",
       "    <tr>\n",
       "      <th>Kim Coates</th>\n",
       "      <td>3251.056042</td>\n",
       "      <td>406.382005</td>\n",
       "      <td>6.490909</td>\n",
       "      <td>13.441804</td>\n",
       "      <td>36</td>\n",
       "    </tr>\n",
       "    <tr>\n",
       "      <th>Bess Flowers</th>\n",
       "      <td>3197.326025</td>\n",
       "      <td>99.916438</td>\n",
       "      <td>6.251064</td>\n",
       "      <td>5.234642</td>\n",
       "      <td>240</td>\n",
       "    </tr>\n",
       "    <tr>\n",
       "      <th>William Sadler</th>\n",
       "      <td>3109.777982</td>\n",
       "      <td>282.707089</td>\n",
       "      <td>6.266667</td>\n",
       "      <td>5.193007</td>\n",
       "      <td>51</td>\n",
       "    </tr>\n",
       "    <tr>\n",
       "      <th>Steven Bauer</th>\n",
       "      <td>2978.249796</td>\n",
       "      <td>744.562449</td>\n",
       "      <td>6.460000</td>\n",
       "      <td>22.756647</td>\n",
       "      <td>26</td>\n",
       "    </tr>\n",
       "  </tbody>\n",
       "</table>\n",
       "</div>"
      ],
      "text/plain": [
       "                    Total_Revenue  Mean_Revenue  Mean_Rating  Mean_Pop  \\\n",
       "Actor                                                                    \n",
       "Andy García           3781.478950    290.882996     6.771429 11.855194   \n",
       "Harvey Keitel         3781.000229    189.050011     6.333333  6.586613   \n",
       "Whoopi Goldberg       3435.326459    149.362020     6.441667  7.107092   \n",
       "Deborah Kara Unger    3391.839152    339.183915     6.225000 18.277166   \n",
       "Kevin Durand          3322.046986    474.578141     6.137500 16.098415   \n",
       "Forest Whitaker       3291.675621    299.243238     6.238462 12.723743   \n",
       "Kim Coates            3251.056042    406.382005     6.490909 13.441804   \n",
       "Bess Flowers          3197.326025     99.916438     6.251064  5.234642   \n",
       "William Sadler        3109.777982    282.707089     6.266667  5.193007   \n",
       "Steven Bauer          2978.249796    744.562449     6.460000 22.756647   \n",
       "\n",
       "                    Total_Movies  \n",
       "Actor                             \n",
       "Andy García                   57  \n",
       "Harvey Keitel                 90  \n",
       "Whoopi Goldberg               85  \n",
       "Deborah Kara Unger            33  \n",
       "Kevin Durand                  26  \n",
       "Forest Whitaker               77  \n",
       "Kim Coates                    36  \n",
       "Bess Flowers                 240  \n",
       "William Sadler                51  \n",
       "Steven Bauer                  26  "
      ]
     },
     "execution_count": 77,
     "metadata": {},
     "output_type": "execute_result"
    }
   ],
   "source": [
    "agg.nlargest(10, \"Total_Revenue\")"
   ]
  },
  {
   "cell_type": "code",
   "execution_count": 59,
   "id": "dfe80795",
   "metadata": {},
   "outputs": [
    {
     "data": {
      "image/png": "[encoded data removed]",
      "text/plain": [
       "<Figure size 864x576 with 1 Axes>"
      ]
     },
     "metadata": {
      "needs_background": "light"
     },
     "output_type": "display_data"
    }
   ],
   "source": [
    "plt.figure(figsize =(12,8))\n",
    "agg.Total_renue.nlargest(10).plot(kind = 'bar')\n",
    "plt.title(' most revenue')\n",
    "plt.ylabel('revenue')\n",
    "plt.show()"
   ]
  },
  {
   "cell_type": "code",
   "execution_count": 84,
   "id": "8f5fde7c",
   "metadata": {},
   "outputs": [
    {
     "data": {
      "text/plain": [
       "Actor\n",
       "Devon Bostick       2787.965087\n",
       "Lara Daans          2787.965087\n",
       "Carlton Chance      1845.034188\n",
       "Fiona Walker        1845.034188\n",
       "Graham Loughridge   1845.034188\n",
       "Joseph Bennett      1845.034188\n",
       "Lex Daniel          1845.034188\n",
       "Marcos A. Ferraez   1519.557910\n",
       "Roy Ageloff         1519.557910\n",
       "Peter DaCunha       1407.724776\n",
       "Name: Mean_Revenue, dtype: float64"
      ]
     },
     "execution_count": 84,
     "metadata": {},
     "output_type": "execute_result"
    }
   ],
   "source": [
    "agg.Mean_Revenue.nlargest(10)"
   ]
  },
  {
   "cell_type": "code",
   "execution_count": null,
   "id": "78849822",
   "metadata": {},
   "outputs": [],
   "source": []
  }
 ],
 "metadata": {
  "kernelspec": {
   "display_name": "Python 3 (ipykernel)",
   "language": "python",
   "name": "python3"
  },
  "language_info": {
   "codemirror_mode": {
    "name": "ipython",
    "version": 3
   },
   "file_extension": ".py",
   "mimetype": "text/x-python",
   "name": "python",
   "nbconvert_exporter": "python",
   "pygments_lexer": "ipython3",
   "version": "3.9.12"
  }
 },
 "nbformat": 4,
 "nbformat_minor": 5
}
